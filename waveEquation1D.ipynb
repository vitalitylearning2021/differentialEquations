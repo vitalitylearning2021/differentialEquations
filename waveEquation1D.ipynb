{
  "cells": [
    {
      "cell_type": "markdown",
      "metadata": {
        "id": "CGcyVc1PCvdn"
      },
      "source": [
        "Standard imports.\n"
      ]
    },
    {
      "cell_type": "code",
      "execution_count": 9,
      "metadata": {
        "id": "x8vkOSbr0RJi"
      },
      "outputs": [],
      "source": [
        "import numpy as np\n",
        "import matplotlib.pyplot as plt\n",
        "\n",
        "from matplotlib import animation, rc\n",
        "from IPython.display import HTML"
      ]
    },
    {
      "cell_type": "markdown",
      "metadata": {
        "id": "o1t5fpkQDM0r"
      },
      "source": [
        "Propagating distribution and its derivative. They serve as reference and as initial condition. "
      ]
    },
    {
      "cell_type": "code",
      "execution_count": 10,
      "metadata": {
        "id": "USBsZW8LhSKg"
      },
      "outputs": [],
      "source": [
        "def propagatingFunctionStationary(x, xmin, xmax):\n",
        "    return np.cos((2. * np.pi / ((2. / 3.) * (xmax - xmin))) * x)\n",
        "\n",
        "def propagatingFunctionStationaryDerivative(x, xmin, xmax):\n",
        "  return -(2. * np.pi / ((2. / 3.) * (xmax - xmin))) * np.sin((2. * np.pi / ((2. / 3.) * (xmax - xmin))) * x)"
      ]
    },
    {
      "cell_type": "markdown",
      "metadata": {
        "id": "LOzBdtuTGFNz"
      },
      "source": [
        "Solution function. Rows span time, columns span space. We have ```M + 1``` rows: ```M``` iterations + ```1``` initial condition. We have ```N + 1``` columns: ```N``` discretization points + ```1``` boundary condition."
      ]
    },
    {
      "cell_type": "markdown",
      "metadata": {
        "id": "vMh7ovzDTLrI"
      },
      "source": [
        "Leapfrog."
      ]
    },
    {
      "cell_type": "code",
      "execution_count": 11,
      "metadata": {
        "id": "yzeFj39QGCrv"
      },
      "outputs": [],
      "source": [
        "def leapfrogStationary(x, t, v, xmin, xmax, alpha):\n",
        "\n",
        "  u     = np.zeros(((M + 1), N + 1))\n",
        "\n",
        "  # --- First step\n",
        "  u[0, 0 : N + 1] = 0.5 * (propagatingFunctionStationary(x - xmin - v * t[0], xmin, xmax) - propagatingFunctionStationary(x - xmin + v * t[0], xmin, xmax))       \n",
        "  \n",
        "  # --- Second step\n",
        "  # --- Left boundary condition\n",
        "  u[1, 0]         = 0.5 * (propagatingFunctionStationary(- v * t[1], xmin, xmax) - propagatingFunctionStationary(v * t[1], xmin, xmax))\n",
        "  # --- Update\n",
        "  u[1, 1 : N]     = alpha * alpha * u[0, 2 : N + 1] / 2. + (1 - alpha * alpha) * u[0, 1 : N] + alpha * alpha * u[0, 0 : N - 1] / 2. - v * dt * 0.5 * (propagatingFunctionStationaryDerivative(x[1 : N] - xmin - v * t[0], xmin, xmax) + propagatingFunctionStationaryDerivative(x[1 : N] - xmin + v * t[0], xmin, xmax))\n",
        "  # --- Right boundary condition\n",
        "  u[1, N]         = 0.5 * (propagatingFunctionStationary(xmax - xmin - v * t[1], xmin, xmax) - propagatingFunctionStationary(xmax - xmin + v * t[1], xmin, xmax))\n",
        "\n",
        "  uoldold         = u[0, 0 : N + 1]\n",
        "  uold            = u[1, 0 : N + 1]\n",
        "  \n",
        "  for l in range(2, M + 1):\n",
        "\n",
        "    # --- Left boundary condition\n",
        "    u[l, 0]     = 0.5 * (propagatingFunctionStationary(- v * t[l], xmin, xmax) - propagatingFunctionStationary(v * t[l], xmin, xmax));   \n",
        "    # --- Update\n",
        "    u[l, 1 : N] = alpha * alpha * uold[2 : N + 1] + 2 * (1 - alpha * alpha) * uold[1 : N] + alpha * alpha * uold[0 : N - 1] - uoldold[1 : N] \n",
        "    # --- Right boundary condition\n",
        "    u[l, N]     = 0.5 * (propagatingFunctionStationary(xmax - xmin - v * t[l], xmin, xmax) - propagatingFunctionStationary(xmax - xmin + v * t[l], xmin, xmax))\n",
        "    \n",
        "    uoldold     = uold\n",
        "    uold        = u[l, :]\n",
        "\n",
        "  return u"
      ]
    },
    {
      "cell_type": "markdown",
      "metadata": {
        "id": "4bIk3RivDurk"
      },
      "source": [
        "Parameters."
      ]
    },
    {
      "cell_type": "code",
      "execution_count": 12,
      "metadata": {
        "id": "t9ejBh_edwIP"
      },
      "outputs": [],
      "source": [
        "xmin  = 0                                    # --- Left boundary of the simulation domain\n",
        "xmax  = 2. * np.pi                           # --- Right boundary of the simulation domain\n",
        "t_0   = 0.                                   # --- Initial time\n",
        "t_f   = 15.                                  # --- Final time\n",
        "M     = 200                                  # --- Number of time steps\n",
        "N     = 100                                  # --- Number of space mesh points\n",
        "v     = 0.5                                  # --- Wave speed"
      ]
    },
    {
      "cell_type": "markdown",
      "metadata": {
        "id": "E457WDUbEHbe"
      },
      "source": [
        "Space-time discretization."
      ]
    },
    {
      "cell_type": "code",
      "execution_count": 13,
      "metadata": {
        "id": "9vjpz_BHD72j"
      },
      "outputs": [],
      "source": [
        "x, dx = np.linspace(xmin, xmax, N + 1, retstep = True)\n",
        "\n",
        "t, dt = np.linspace(t_0, t_f, M + 1, retstep = True)\n",
        "            \n",
        "alpha = v * dt / dx"
      ]
    },
    {
      "cell_type": "markdown",
      "metadata": {
        "id": "vENOyoRPIiNI"
      },
      "source": [
        "Define reference solution."
      ]
    },
    {
      "cell_type": "code",
      "execution_count": 14,
      "metadata": {
        "id": "FjIqacaXhC9l"
      },
      "outputs": [],
      "source": [
        "X, T = np.meshgrid(x, t)           \n",
        "\n",
        "uFW  =  0.5 * propagatingFunctionStationary(X - xmin - v * T, xmin, xmax);\n",
        "uBW  = -0.5 * propagatingFunctionStationary(X - xmin + v * T, xmin, xmax);\n",
        "\n",
        "uRef = 0.5 * (propagatingFunctionStationary(X - xmin - v * T, xmin, xmax) - propagatingFunctionStationary(X - xmin + v * T, xmin, xmax));  "
      ]
    },
    {
      "cell_type": "markdown",
      "metadata": {
        "id": "56mVsib94KgU"
      },
      "source": [
        "Compute solution."
      ]
    },
    {
      "cell_type": "code",
      "execution_count": 15,
      "metadata": {
        "id": "eUwINm3nkTsZ"
      },
      "outputs": [],
      "source": [
        "u = leapfrogStationary(x, t, v, xmin, xmax, alpha)"
      ]
    },
    {
      "cell_type": "markdown",
      "metadata": {
        "id": "R1zirKVxLZ7H"
      },
      "source": [
        "Animation."
      ]
    },
    {
      "cell_type": "code",
      "execution_count": null,
      "metadata": {
        "colab": {
          "background_save": true
        },
        "id": "YX2p5Q30wU6F"
      },
      "outputs": [],
      "source": [
        "fig, ax = plt.subplots()\n",
        "plt.close()\n",
        "\n",
        "ax.set_xlim(( xmin, xmax))\n",
        "ax.set_ylim(( -1.1, 1.1))\n",
        "\n",
        "line1, = ax.plot([], [], lw = 2, color = \"r\")\n",
        "line2, = ax.plot([], [], lw = 2, color = \"g\")\n",
        "line3, = ax.plot([], [], lw = 2, color = \"c\")\n",
        "line4, = ax.plot([], [], lw = 2, color = \"b\", marker = \"o\")\n",
        "\n",
        "def animate(i):\n",
        "    global x\n",
        "    global u, uRef, uFW, uBW\n",
        "    yRef = uRef[i]\n",
        "    yFW  = uFW[i]\n",
        "    yBW  = uBW[i]\n",
        "    y    = u[i]\n",
        "    line1.set_data(x, yRef)\n",
        "    line2.set_data(x, yFW)\n",
        "    line3.set_data(x, yBW)\n",
        "    line4.set_data(x, y)\n",
        "    return (line1, line2, line3, line4)\n",
        "\n",
        "anim = animation.FuncAnimation(fig, animate, frames = N + 1, interval = 20)\n",
        "anim.save('leapfrog.mp4', fps = 30, extra_args=['-vcodec', 'libx264'])\n",
        "rc('animation', html = 'jshtml') \n",
        "anim"
      ]
    }
  ],
  "metadata": {
    "colab": {
      "name": "waveEquation1D.ipynb",
      "provenance": []
    },
    "kernelspec": {
      "display_name": "Python 3",
      "name": "python3"
    }
  },
  "nbformat": 4,
  "nbformat_minor": 0
}