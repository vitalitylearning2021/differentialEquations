{
  "nbformat": 4,
  "nbformat_minor": 0,
  "metadata": {
    "colab": {
      "provenance": []
    },
    "kernelspec": {
      "name": "python3",
      "display_name": "Python 3"
    },
    "language_info": {
      "name": "python"
    }
  },
  "cells": [
    {
      "cell_type": "code",
      "source": [
        "import numpy as np"
      ],
      "metadata": {
        "id": "MpXOBo2gjiIo"
      },
      "execution_count": null,
      "outputs": []
    },
    {
      "cell_type": "code",
      "execution_count": null,
      "metadata": {
        "id": "qohbc-fmjepa"
      },
      "outputs": [],
      "source": [
        "def update_eikonal_2D(i, j, u, F, h, N):\n",
        "    # LEFTMOST OR RIGHTMOST BORDERS\n",
        "    if i == 0:\n",
        "        a = u[i + 1, j]\n",
        "    elif i == N - 1:\n",
        "        a = u[i - 1, j]\n",
        "    else:\n",
        "        a = min(u[i + 1, j], u[i - 1, j])\n",
        "\n",
        "    # UPPERMOST OR LOWERMOST BORDERS\n",
        "    if j == 0:\n",
        "        b = u[i, j + 1]\n",
        "    elif j == N - 1:\n",
        "        b = u[i, j - 1]\n",
        "    else:\n",
        "        b = min(u[i, j + 1], u[i, j - 1])\n",
        "\n",
        "    # EIKONAL UPDATE\n",
        "    if abs(a - b) < h * F[i, j]:\n",
        "        u_new = 0.5 * (a + b + np.sqrt((2 * (h * F[i, j]) ** 2) - (a - b) ** 2))\n",
        "    else:\n",
        "        u_new = h * F[i, j] + min(a, b)\n",
        "\n",
        "    return min(u[i, j], u_new)"
      ]
    }
  ]
}