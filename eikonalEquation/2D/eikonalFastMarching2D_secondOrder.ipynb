{
  "cells": [
    {
      "cell_type": "markdown",
      "metadata": {
        "id": "zOFyLYvjgnnY"
      },
      "source": [
        "Imports."
      ]
    },
    {
      "cell_type": "code",
      "execution_count": 1,
      "metadata": {
        "id": "EzSPIJK02Mzc"
      },
      "outputs": [],
      "source": [
        "#from google.colab import drive\n",
        "#drive.mount('/content/drive')"
      ]
    },
    {
      "cell_type": "code",
      "execution_count": 2,
      "metadata": {
        "id": "Dy-d8p5O2Vbc"
      },
      "outputs": [],
      "source": [
        "#import sys\n",
        "#sys.path.insert(0,'/content/drive/MyDrive/Colab Notebooks')"
      ]
    },
    {
      "cell_type": "code",
      "execution_count": 3,
      "metadata": {
        "id": "Xla3yLlKiLPV"
      },
      "outputs": [],
      "source": [
        "import numpy as np\n",
        "import matplotlib.pyplot as plt\n",
        "\n",
        "#from eikonal_routines import *"
      ]
    },
    {
      "cell_type": "code",
      "execution_count": 4,
      "metadata": {
        "id": "bIv81O5orcMu"
      },
      "outputs": [],
      "source": [
        "from queue import PriorityQueue"
      ]
    },
    {
      "cell_type": "markdown",
      "metadata": {
        "id": "E9v5GzGJiNcc"
      },
      "source": [
        "Parameters."
      ]
    },
    {
      "cell_type": "code",
      "execution_count": 5,
      "metadata": {
        "id": "nmH9946Gfu2p"
      },
      "outputs": [],
      "source": [
        "# Number of discretization points\n",
        "N = 101\n",
        "\n",
        "# Refraction index (NxN matrix)\n",
        "F = np.ones((N, N))\n",
        "\n",
        "# Source points - boundary conditions (Nx3 matrix)\n",
        "#                 first column    -  x coordinates of the source\n",
        "#                 second column   -  y coordinates of the source\n",
        "#                 third column    -  eikonal(x,y)\n",
        "source = np.array([\n",
        "    [21, 21, 1],\n",
        "    [71, 71, 2]\n",
        "])\n",
        "#source = np.array([\n",
        "#    [11, 11, 0]\n",
        "#])\n",
        "\n",
        "# Grid spacing\n",
        "h = 0.1\n",
        "\n",
        "# Tolerance used as a stopping criterion\n",
        "tol = 1e-6\n",
        "\n",
        "# Large value\n",
        "infinity = 10 * (N * h) ** 2"
      ]
    },
    {
      "cell_type": "markdown",
      "metadata": {
        "id": "O3Sc4TXXiSB1"
      },
      "source": [
        "Initializations."
      ]
    },
    {
      "cell_type": "code",
      "execution_count": 6,
      "metadata": {
        "id": "sYvvmMeaiZCk"
      },
      "outputs": [],
      "source": [
        "# Eikonal initialization\n",
        "u = np.full((N, N), infinity)\n",
        "\n",
        "# Mask matrix for already set nodes\n",
        "isSet = np.full((N, N), False)\n",
        "\n",
        "# Adding the sources\n",
        "activeList = PriorityQueue()\n",
        "for n in range(len(source)):\n",
        "    u[source[n, 0], source[n, 1]] = source[n, 2]\n",
        "    activeList.put((source[n, 2], source[n, 0], source[n, 1]))"
      ]
    },
    {
      "cell_type": "code",
      "source": [
        "def update_coefficients(switch, alpha, alpha_prime, t, a, b, c):\n",
        "  alphatrue   = (switch * alpha + (1 - switch) * alpha_prime)\n",
        "  beta        = -(2 * t * alphatrue)\n",
        "  gamma       =  (t**2) * alphatrue\n",
        "  a           += alphatrue\n",
        "  b           += beta\n",
        "  c           += gamma\n",
        "\n",
        "  return a, b, c\n",
        "\n",
        "def update_eikonal_second_order(i, j, u, F, isSet, h, N):\n",
        "\n",
        "  a = 0\n",
        "  b = 0\n",
        "  c = -(F[i, j]**2)\n",
        "\n",
        "  alpha = 1 / (h**2)\n",
        "  alpha_prime = 9 / (4 * (h**2))\n",
        "\n",
        "  switch = True\n",
        "  # --- Leftmost boundary\n",
        "  if i == 0:\n",
        "    ta          = u[i + 1, j]\n",
        "    a, b, c     = update_coefficients(switch, alpha, alpha_prime, ta, a, b, c)\n",
        "  # --- Leftmost but one boundary\n",
        "  elif i == 1:\n",
        "    ta = min(u[i + 1, j], u[i - 1, j])\n",
        "    a, b, c     = update_coefficients(switch, alpha, alpha_prime, ta, a, b, c)\n",
        "  # --- Rightmost boundary\n",
        "  elif i == N - 1:\n",
        "    ta = u[i - 1, j]\n",
        "    a, b, c     = update_coefficients(switch, alpha, alpha_prime, ta, a, b, c)\n",
        "  # --- Rightmost but one boundary\n",
        "  elif i == N - 2:\n",
        "    ta = min(u[i + 1, j], u[i - 1, j])\n",
        "    a, b, c     = update_coefficients(switch, alpha, alpha_prime, ta, a, b, c)\n",
        "  else:\n",
        "    switch1 = False\n",
        "    switch2 = False\n",
        "    if isSet[i - 2, j] & isSet[i - 1, j] & (u[i - 2, j] < u[i - 1, j]):\n",
        "      tprimea1 = (4 * u[i - 1, j] - u[i - 2, j]) / 3\n",
        "    else:\n",
        "      tprimea1 = u[i - 1, j]\n",
        "      switch1  = True\n",
        "    if isSet[i + 2, j] & isSet[i + 1, j] & (u[i + 2, j] < u[i + 1, j]):\n",
        "      tprimea2 = (4 * u[i + 1, j] - u[i + 2, j]) / 3\n",
        "    else:\n",
        "      tprimea2 = u[i + 1, j]\n",
        "      switch2  = True\n",
        "    if tprimea1 < tprimea2:\n",
        "      ta = tprimea1\n",
        "      switch = switch1\n",
        "    else:\n",
        "      ta = tprimea2\n",
        "      switch = switch2\n",
        "    a, b, c     = update_coefficients(switch, alpha, alpha_prime, ta, a, b, c)\n",
        "\n",
        "  switch = True\n",
        "  # --- Lowermost boundary\n",
        "  if j == 0:\n",
        "    tb          = u[i, j + 1]\n",
        "    a, b, c     = update_coefficients(switch, alpha, alpha_prime, tb, a, b, c)\n",
        "  # --- Lowermost but one boundary\n",
        "  elif j == 1:\n",
        "    tb = min(u[i, j + 1], u[i, j - 1])\n",
        "    a, b, c     = update_coefficients(switch, alpha, alpha_prime, tb, a, b, c)\n",
        "  # --- Rightmost boundary\n",
        "  elif j == N - 1:\n",
        "    tb = u[i, j - 1]\n",
        "    a, b, c     = update_coefficients(switch, alpha, alpha_prime, tb, a, b, c)\n",
        "  # --- Rightmost but one boundary\n",
        "  elif j == N - 2:\n",
        "    tb = min(u[i, j + 1], u[i, j - 1])\n",
        "    a, b, c     = update_coefficients(switch, alpha, alpha_prime, tb, a, b, c)\n",
        "  else:\n",
        "    switch1 = False\n",
        "    switch2 = False\n",
        "    if isSet[i, j - 2] & isSet[i, j - 1] & (u[i, j - 2] < u[i, j - 1]):\n",
        "      tprimea1 = (4 * u[i, j - 1] - u[i, j - 2]) / 3\n",
        "    else:\n",
        "      tprimea1 = u[i, j - 1]\n",
        "      switch1  = True\n",
        "    if isSet[i, j + 2] & isSet[i, j + 1] & (u[i, j + 2] < u[i, j + 1]):\n",
        "      tprimea2 = (4 * u[i, j + 1] - u[i, j + 2]) / 3\n",
        "    else:\n",
        "      tprimea2 = u[i, j + 1]\n",
        "      switch2  = True\n",
        "    if tprimea1 < tprimea2:\n",
        "      tb = tprimea1\n",
        "      switch = switch1\n",
        "    else:\n",
        "      tb = tprimea2\n",
        "      switch = switch2\n",
        "    a, b, c     = update_coefficients(switch, alpha, alpha_prime, tb, a, b, c)\n",
        "\n",
        "  # EIKONAL UPDATE\n",
        "  discriminant = b**2 - 4 * a * c\n",
        "  if discriminant >= 0:\n",
        "    u_new = (-b + np.sqrt(discriminant)) / (2 * a)\n",
        "    result = min(u[i, j], u_new)\n",
        "  else:\n",
        "    result = h * F[i, j] + min(ta, tb)\n",
        "\n",
        "  return result"
      ],
      "metadata": {
        "id": "w3DMG2CkESGe"
      },
      "execution_count": 7,
      "outputs": []
    },
    {
      "cell_type": "code",
      "execution_count": 8,
      "metadata": {
        "id": "orTVnh9HwKCp"
      },
      "outputs": [],
      "source": [
        "# FAST MARCHING ITERATIONS\n",
        "while not (activeList.empty()):\n",
        "\n",
        "    activeNode = activeList.get()\n",
        "\n",
        "    isSet[activeNode[1], activeNode[2]] = True\n",
        "\n",
        "    neighbors       = []\n",
        "\n",
        "    neighbors.append((activeNode[1], activeNode[2] - 1))\n",
        "    neighbors.append((activeNode[1], activeNode[2] + 1))\n",
        "    neighbors.append((activeNode[1] - 1, activeNode[2]))\n",
        "    neighbors.append((activeNode[1] + 1, activeNode[2]))\n",
        "\n",
        "    while len(neighbors) > 0:\n",
        "      neighbor = neighbors.pop()\n",
        "\n",
        "      if ((neighbor[0] < N) & (neighbor[0] >= 0) & (neighbor[1] < N) & (neighbor[1] >= 0)):\n",
        "        if ((isSet[neighbor] == False)):\n",
        "\n",
        "          u[neighbor[0], neighbor[1]] = update_eikonal_second_order(neighbor[0], neighbor[1], u, F, isSet, h, N)\n",
        "\n",
        "          shouldInsert = True\n",
        "          candidate = (u[neighbor[0], neighbor[1]], neighbor[0], neighbor[1])\n",
        "          for item in activeList.queue:\n",
        "            if candidate == item:\n",
        "              shouldInsert = False\n",
        "          #print(any(candidate in item for item in activeList.queue))\n",
        "          if shouldInsert:\n",
        "            activeList.put((u[neighbor[0], neighbor[1]], neighbor[0], neighbor[1]))\n"
      ]
    },
    {
      "cell_type": "markdown",
      "metadata": {
        "id": "yp0VOxsDidlZ"
      },
      "source": [
        "Plots."
      ]
    },
    {
      "cell_type": "code",
      "execution_count": 9,
      "metadata": {
        "id": "9bafR8g9igbc",
        "colab": {
          "base_uri": "https://localhost:8080/",
          "height": 472
        },
        "outputId": "56b9201a-6bee-4526-95d5-fda6b78b93f0"
      },
      "outputs": [
        {
          "output_type": "display_data",
          "data": {
            "text/plain": [
              "<Figure size 640x480 with 2 Axes>"
            ],
            "image/png": "[encoded data removed]"
          },
          "metadata": {}
        }
      ],
      "source": [
        "x = np.arange(0, N) * h\n",
        "y = np.arange(0, N) * h\n",
        "\n",
        "plt.figure(1)\n",
        "plt.imshow(u, extent=(x[0], x[-1], y[0], y[-1]))\n",
        "plt.colorbar()\n",
        "plt.xlabel('x [arbitrary units]')\n",
        "plt.ylabel('y [arbitrary units]')\n",
        "plt.title('Eikonal Solution')\n",
        "plt.show()"
      ]
    }
  ],
  "metadata": {
    "colab": {
      "provenance": []
    },
    "kernelspec": {
      "display_name": "Python 3",
      "name": "python3"
    },
    "language_info": {
      "name": "python"
    }
  },
  "nbformat": 4,
  "nbformat_minor": 0
}