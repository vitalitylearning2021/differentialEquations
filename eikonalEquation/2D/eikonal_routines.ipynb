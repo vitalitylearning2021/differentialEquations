{
  "nbformat": 4,
  "nbformat_minor": 0,
  "metadata": {
    "colab": {
      "provenance": []
    },
    "kernelspec": {
      "name": "python3",
      "display_name": "Python 3"
    },
    "language_info": {
      "name": "python"
    }
  },
  "cells": [
    {
      "cell_type": "code",
      "source": [
        "import numpy as np"
      ],
      "metadata": {
        "id": "MpXOBo2gjiIo"
      },
      "execution_count": null,
      "outputs": []
    },
    {
      "cell_type": "markdown",
      "source": [
        "First order eikonal update function"
      ],
      "metadata": {
        "id": "tJMfPi77Dfke"
      }
    },
    {
      "cell_type": "code",
      "execution_count": null,
      "metadata": {
        "id": "qohbc-fmjepa"
      },
      "outputs": [],
      "source": [
        "def update_eikonal_2D(i, j, u, F, h, N):\n",
        "    # LEFTMOST OR RIGHTMOST BORDERS\n",
        "    if i == 0:\n",
        "        a = u[i + 1, j]\n",
        "    elif i == N - 1:\n",
        "        a = u[i - 1, j]\n",
        "    else:\n",
        "        a = min(u[i + 1, j], u[i - 1, j])\n",
        "\n",
        "    # UPPERMOST OR LOWERMOST BORDERS\n",
        "    if j == 0:\n",
        "        b = u[i, j + 1]\n",
        "    elif j == N - 1:\n",
        "        b = u[i, j - 1]\n",
        "    else:\n",
        "        b = min(u[i, j + 1], u[i, j - 1])\n",
        "\n",
        "    # EIKONAL UPDATE\n",
        "    if abs(a - b) < h * F[i, j]:\n",
        "        u_new = 0.5 * (a + b + np.sqrt((2 * (h * F[i, j]) ** 2) - (a - b) ** 2))\n",
        "    else:\n",
        "        u_new = h * F[i, j] + min(a, b)\n",
        "\n",
        "    return min(u[i, j], u_new)"
      ]
    },
    {
      "cell_type": "markdown",
      "source": [
        "Second order eikonal update functions"
      ],
      "metadata": {
        "id": "kRHY87rKDilu"
      }
    },
    {
      "cell_type": "code",
      "source": [
        "def update_coefficients(switch, alpha, alpha_prime, t, a, b, c):\n",
        "  alphatrue   = (switch * alpha + (1 - switch) * alpha_prime)\n",
        "  beta        = -(2 * t * alphatrue)\n",
        "  gamma       =  (t**2) * alphatrue\n",
        "  a           += alphatrue\n",
        "  b           += beta\n",
        "  c           += gamma\n",
        "\n",
        "  return a, b, c\n",
        "\n",
        "def update_eikonal_second_order(i, j, u, F, isSet, h, N):\n",
        "\n",
        "  a = 0\n",
        "  b = 0\n",
        "  c = -(F[i, j]**2)\n",
        "\n",
        "  alpha = 1 / (h**2)\n",
        "  alpha_prime = 9 / (4 * (h**2))\n",
        "\n",
        "  switch = True\n",
        "  # --- Leftmost boundary\n",
        "  if i == 0:\n",
        "    ta          = u[i + 1, j]\n",
        "    a, b, c     = update_coefficients(switch, alpha, alpha_prime, ta, a, b, c)\n",
        "  # --- Leftmost but one boundary\n",
        "  elif i == 1:\n",
        "    ta = min(u[i + 1, j], u[i - 1, j])\n",
        "    a, b, c     = update_coefficients(switch, alpha, alpha_prime, ta, a, b, c)\n",
        "  # --- Rightmost boundary\n",
        "  elif i == N - 1:\n",
        "    ta = u[i - 1, j]\n",
        "    a, b, c     = update_coefficients(switch, alpha, alpha_prime, ta, a, b, c)\n",
        "  # --- Rightmost but one boundary\n",
        "  elif i == N - 2:\n",
        "    ta = min(u[i + 1, j], u[i - 1, j])\n",
        "    a, b, c     = update_coefficients(switch, alpha, alpha_prime, ta, a, b, c)\n",
        "  else:\n",
        "    switch1 = False\n",
        "    switch2 = False\n",
        "    if isSet[i - 2, j] & isSet[i - 1, j] & (u[i - 2, j] < u[i - 1, j]):\n",
        "      tprimea1 = (4 * u[i - 1, j] - u[i - 2, j]) / 3\n",
        "    else:\n",
        "      tprimea1 = u[i - 1, j]\n",
        "      switch1  = True\n",
        "    if isSet[i + 2, j] & isSet[i + 1, j] & (u[i + 2, j] < u[i + 1, j]):\n",
        "      tprimea2 = (4 * u[i + 1, j] - u[i + 2, j]) / 3\n",
        "    else:\n",
        "      tprimea2 = u[i + 1, j]\n",
        "      switch2  = True\n",
        "    if tprimea1 < tprimea2:\n",
        "      ta = tprimea1\n",
        "      switch = switch1\n",
        "    else:\n",
        "      ta = tprimea2\n",
        "      switch = switch2\n",
        "    a, b, c     = update_coefficients(switch, alpha, alpha_prime, ta, a, b, c)\n",
        "\n",
        "  switch = True\n",
        "  # --- Lowermost boundary\n",
        "  if j == 0:\n",
        "    tb          = u[i, j + 1]\n",
        "    a, b, c     = update_coefficients(switch, alpha, alpha_prime, tb, a, b, c)\n",
        "  # --- Lowermost but one boundary\n",
        "  elif j == 1:\n",
        "    tb = min(u[i, j + 1], u[i, j - 1])\n",
        "    a, b, c     = update_coefficients(switch, alpha, alpha_prime, tb, a, b, c)\n",
        "  # --- Rightmost boundary\n",
        "  elif j == N - 1:\n",
        "    tb = u[i, j - 1]\n",
        "    a, b, c     = update_coefficients(switch, alpha, alpha_prime, tb, a, b, c)\n",
        "  # --- Rightmost but one boundary\n",
        "  elif j == N - 2:\n",
        "    tb = min(u[i, j + 1], u[i, j - 1])\n",
        "    a, b, c     = update_coefficients(switch, alpha, alpha_prime, tb, a, b, c)\n",
        "  else:\n",
        "    switch1 = False\n",
        "    switch2 = False\n",
        "    if isSet[i, j - 2] & isSet[i, j - 1] & (u[i, j - 2] < u[i, j - 1]):\n",
        "      tprimea1 = (4 * u[i, j - 1] - u[i, j - 2]) / 3\n",
        "    else:\n",
        "      tprimea1 = u[i, j - 1]\n",
        "      switch1  = True\n",
        "    if isSet[i, j + 2] & isSet[i, j + 1] & (u[i, j + 2] < u[i, j + 1]):\n",
        "      tprimea2 = (4 * u[i, j + 1] - u[i, j + 2]) / 3\n",
        "    else:\n",
        "      tprimea2 = u[i, j + 1]\n",
        "      switch2  = True\n",
        "    if tprimea1 < tprimea2:\n",
        "      tb = tprimea1\n",
        "      switch = switch1\n",
        "    else:\n",
        "      tb = tprimea2\n",
        "      switch = switch2\n",
        "    a, b, c     = update_coefficients(switch, alpha, alpha_prime, tb, a, b, c)\n",
        "\n",
        "  # EIKONAL UPDATE\n",
        "  discriminant = b**2 - 4 * a * c\n",
        "  if discriminant >= 0:\n",
        "    u_new = (-b + np.sqrt(discriminant)) / (2 * a)\n",
        "    result = min(u[i, j], u_new)\n",
        "  else:\n",
        "    result = h * F[i, j] + min(ta, tb)\n",
        "\n",
        "  return result"
      ],
      "metadata": {
        "id": "elQQYqkKDeHn"
      },
      "execution_count": null,
      "outputs": []
    }
  ]
}