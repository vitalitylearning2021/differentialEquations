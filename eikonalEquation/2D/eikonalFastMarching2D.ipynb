{
  "cells": [
    {
      "cell_type": "markdown",
      "metadata": {
        "id": "zOFyLYvjgnnY"
      },
      "source": [
        "Imports."
      ]
    },
    {
      "cell_type": "code",
      "execution_count": 23,
      "metadata": {
        "id": "EzSPIJK02Mzc"
      },
      "outputs": [],
      "source": [
        "#from google.colab import drive\n",
        "#drive.mount('/content/drive')"
      ]
    },
    {
      "cell_type": "code",
      "execution_count": 24,
      "metadata": {
        "id": "Dy-d8p5O2Vbc"
      },
      "outputs": [],
      "source": [
        "#import sys\n",
        "#sys.path.insert(0,'/content/drive/MyDrive/Colab Notebooks')"
      ]
    },
    {
      "cell_type": "code",
      "execution_count": 25,
      "metadata": {
        "id": "Xla3yLlKiLPV"
      },
      "outputs": [],
      "source": [
        "import numpy as np\n",
        "import matplotlib.pyplot as plt\n",
        "\n",
        "#from eikonal_routines import *"
      ]
    },
    {
      "cell_type": "code",
      "execution_count": 26,
      "metadata": {
        "id": "bIv81O5orcMu"
      },
      "outputs": [],
      "source": [
        "from queue import PriorityQueue"
      ]
    },
    {
      "cell_type": "code",
      "source": [
        "def update_eikonal_2D(i, j, u, F, h, N):\n",
        "    # LEFTMOST OR RIGHTMOST BORDERS\n",
        "    if i == 0:\n",
        "        a = u[i + 1, j]\n",
        "    elif i == N - 1:\n",
        "        a = u[i - 1, j]\n",
        "    else:\n",
        "        a = min(u[i + 1, j], u[i - 1, j])\n",
        "\n",
        "    # UPPERMOST OR LOWERMOST BORDERS\n",
        "    if j == 0:\n",
        "        b = u[i, j + 1]\n",
        "    elif j == N - 1:\n",
        "        b = u[i, j - 1]\n",
        "    else:\n",
        "        b = min(u[i, j + 1], u[i, j - 1])\n",
        "\n",
        "    # EIKONAL UPDATE\n",
        "    if abs(a - b) < h * F[i, j]:\n",
        "        u_new = 0.5 * (a + b + np.sqrt((2 * (h * F[i, j]) ** 2) - (a - b) ** 2))\n",
        "    else:\n",
        "        u_new = h * F[i, j] + min(a, b)\n",
        "\n",
        "    return min(u[i, j], u_new)"
      ],
      "metadata": {
        "id": "IdvBif7F47bW"
      },
      "execution_count": 27,
      "outputs": []
    },
    {
      "cell_type": "markdown",
      "metadata": {
        "id": "E9v5GzGJiNcc"
      },
      "source": [
        "Parameters."
      ]
    },
    {
      "cell_type": "code",
      "execution_count": 28,
      "metadata": {
        "id": "nmH9946Gfu2p"
      },
      "outputs": [],
      "source": [
        "# Number of discretization points\n",
        "N = 101\n",
        "\n",
        "# Refraction index (NxN matrix)\n",
        "F = np.ones((N, N))\n",
        "\n",
        "# Source points - boundary conditions (Nx3 matrix)\n",
        "#                 first column    -  x coordinates of the source\n",
        "#                 second column   -  y coordinates of the source\n",
        "#                 third column    -  eikonal(x,y)\n",
        "source = np.array([\n",
        "    [21, 21, 1],\n",
        "    [71, 71, 2]\n",
        "])\n",
        "#source = np.array([\n",
        "#    [11, 11, 0]\n",
        "#])\n",
        "\n",
        "# Grid spacing\n",
        "h = 0.1\n",
        "\n",
        "# Tolerance used as a stopping criterion\n",
        "tol = 1e-6\n",
        "\n",
        "# Large value\n",
        "infinity = 10 * (N * h) ** 2"
      ]
    },
    {
      "cell_type": "markdown",
      "metadata": {
        "id": "O3Sc4TXXiSB1"
      },
      "source": [
        "Initializations."
      ]
    },
    {
      "cell_type": "code",
      "execution_count": 29,
      "metadata": {
        "id": "sYvvmMeaiZCk"
      },
      "outputs": [],
      "source": [
        "# Eikonal initialization\n",
        "u = np.full((N, N), infinity)\n",
        "\n",
        "# Mask matrix for already set nodes\n",
        "isSet = np.full((N, N), False)\n",
        "\n",
        "# Adding the sources\n",
        "activeList = PriorityQueue()\n",
        "for n in range(len(source)):\n",
        "    u[source[n, 0], source[n, 1]] = source[n, 2]\n",
        "    activeList.put((source[n, 2], source[n, 0], source[n, 1]))"
      ]
    },
    {
      "cell_type": "code",
      "execution_count": 30,
      "metadata": {
        "id": "orTVnh9HwKCp"
      },
      "outputs": [],
      "source": [
        "# FAST MARCHING ITERATIONS\n",
        "while not (activeList.empty()):\n",
        "\n",
        "    activeNode = activeList.get()\n",
        "\n",
        "    isSet[activeNode[1], activeNode[2]] = True\n",
        "\n",
        "    neighbors       = []\n",
        "\n",
        "    neighbors.append((activeNode[1], activeNode[2] - 1))\n",
        "    neighbors.append((activeNode[1], activeNode[2] + 1))\n",
        "    neighbors.append((activeNode[1] - 1, activeNode[2]))\n",
        "    neighbors.append((activeNode[1] + 1, activeNode[2]))\n",
        "\n",
        "    while len(neighbors) > 0:\n",
        "      neighbor = neighbors.pop()\n",
        "\n",
        "      if ((neighbor[0] < N) & (neighbor[0] >= 0) & (neighbor[1] < N) & (neighbor[1] >= 0)):\n",
        "        if ((isSet[neighbor] == False)):\n",
        "\n",
        "          u[neighbor[0], neighbor[1]] = update_eikonal_2D(neighbor[0], neighbor[1], u, F, h, N)\n",
        "\n",
        "          shouldInsert = True\n",
        "          candidate = (u[neighbor[0], neighbor[1]], neighbor[0], neighbor[1])\n",
        "          for item in activeList.queue:\n",
        "            if candidate == item:\n",
        "              shouldInsert = False\n",
        "          #print(any(candidate in item for item in activeList.queue))\n",
        "          if shouldInsert:\n",
        "            activeList.put((u[neighbor[0], neighbor[1]], neighbor[0], neighbor[1]))\n"
      ]
    },
    {
      "cell_type": "markdown",
      "metadata": {
        "id": "yp0VOxsDidlZ"
      },
      "source": [
        "Plots."
      ]
    },
    {
      "cell_type": "code",
      "execution_count": 31,
      "metadata": {
        "id": "9bafR8g9igbc",
        "colab": {
          "base_uri": "https://localhost:8080/",
          "height": 472
        },
        "outputId": "733e633c-fea0-4a6c-b35f-1266d7aaaea3"
      },
      "outputs": [
        {
          "output_type": "display_data",
          "data": {
            "text/plain": [
              "<Figure size 640x480 with 2 Axes>"
            ],
            "image/png": "[encoded data removed]"
          },
          "metadata": {}
        }
      ],
      "source": [
        "x = np.arange(0, N) * h\n",
        "y = np.arange(0, N) * h\n",
        "\n",
        "plt.figure(1)\n",
        "plt.imshow(u, extent=(x[0], x[-1], y[0], y[-1]))\n",
        "plt.colorbar()\n",
        "plt.xlabel('x [arbitrary units]')\n",
        "plt.ylabel('y [arbitrary units]')\n",
        "plt.title('Eikonal Solution')\n",
        "plt.show()"
      ]
    },
    {
      "cell_type": "code",
      "execution_count": 35,
      "metadata": {
        "id": "A-QzC8nA7RFQ",
        "colab": {
          "base_uri": "https://localhost:8080/"
        },
        "outputId": "ec340c2a-b354-4365-a082-09143cbdbf00"
      },
      "outputs": [
        {
          "output_type": "stream",
          "name": "stdout",
          "text": [
            "11.413372269361927\n"
          ]
        }
      ],
      "source": [
        "uFS = np.loadtxt('/content/drive/MyDrive/Colab Notebooks/FS_result.txt', dtype=int)\n",
        "err = 100 * np.sqrt(np.sum(np.abs(u - uFS)**2) / np.sum(np.abs(u)**2))\n",
        "print(err)"
      ]
    }
  ],
  "metadata": {
    "colab": {
      "provenance": []
    },
    "kernelspec": {
      "display_name": "Python 3",
      "name": "python3"
    },
    "language_info": {
      "name": "python"
    }
  },
  "nbformat": 4,
  "nbformat_minor": 0
}