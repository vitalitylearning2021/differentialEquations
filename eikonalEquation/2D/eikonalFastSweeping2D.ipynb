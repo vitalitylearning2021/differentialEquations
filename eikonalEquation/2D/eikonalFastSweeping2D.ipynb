{
  "nbformat": 4,
  "nbformat_minor": 0,
  "metadata": {
    "colab": {
      "provenance": []
    },
    "kernelspec": {
      "name": "python3",
      "display_name": "Python 3"
    },
    "language_info": {
      "name": "python"
    }
  },
  "cells": [
    {
      "cell_type": "markdown",
      "source": [
        "Imports."
      ],
      "metadata": {
        "id": "zOFyLYvjgnnY"
      }
    },
    {
      "cell_type": "code",
      "source": [
        "from google.colab import drive\n",
        "drive.mount('/content/drive')"
      ],
      "metadata": {
        "colab": {
          "base_uri": "https://localhost:8080/"
        },
        "id": "EzSPIJK02Mzc",
        "outputId": "f0c0a128-5ecc-46c6-ff7f-103c67b2c667"
      },
      "execution_count": 8,
      "outputs": [
        {
          "output_type": "stream",
          "name": "stdout",
          "text": [
            "Drive already mounted at /content/drive; to attempt to forcibly remount, call drive.mount(\"/content/drive\", force_remount=True).\n"
          ]
        }
      ]
    },
    {
      "cell_type": "code",
      "source": [
        "import sys\n",
        "sys.path.insert(0,'/content/drive/MyDrive/Colab Notebooks')"
      ],
      "metadata": {
        "id": "Dy-d8p5O2Vbc"
      },
      "execution_count": 9,
      "outputs": []
    },
    {
      "cell_type": "code",
      "source": [
        "import numpy as np\n",
        "import matplotlib.pyplot as plt\n",
        "\n",
        "from eikonal_routines import *"
      ],
      "metadata": {
        "id": "Xla3yLlKiLPV"
      },
      "execution_count": 10,
      "outputs": []
    },
    {
      "cell_type": "markdown",
      "source": [
        "Parameters."
      ],
      "metadata": {
        "id": "E9v5GzGJiNcc"
      }
    },
    {
      "cell_type": "code",
      "source": [
        "# Number of discretization points\n",
        "N = 101\n",
        "\n",
        "# Refraction index (NxN matrix)\n",
        "F = np.ones((N, N))\n",
        "\n",
        "# Source points - boundary conditions (Nx3 matrix)\n",
        "#                 first column    -  x coordinates of the source\n",
        "#                 second column   -  y coordinates of the source\n",
        "#                 third column    -  eikonal(x,y)\n",
        "source = np.array([\n",
        "    [21, 21, 1],\n",
        "    [71, 71, 2]\n",
        "])\n",
        "\n",
        "# Grid spacing\n",
        "h = 0.1\n",
        "\n",
        "# Tolerance used as a stopping criterion\n",
        "tol = 1e-6\n",
        "\n",
        "# Large value\n",
        "infinity = 10 * (N * h) ** 2"
      ],
      "metadata": {
        "id": "nmH9946Gfu2p"
      },
      "execution_count": 11,
      "outputs": []
    },
    {
      "cell_type": "markdown",
      "source": [
        "Initializations."
      ],
      "metadata": {
        "id": "O3Sc4TXXiSB1"
      }
    },
    {
      "cell_type": "code",
      "source": [
        "# Eikonal initialization\n",
        "u = np.full((N, N), infinity)\n",
        "\n",
        "# Adding the sources\n",
        "for n in range(len(source)):\n",
        "    u[source[n, 0], source[n, 1]] = source[n, 2]\n",
        "\n",
        "u_error = 100\n",
        "n_iter = 0"
      ],
      "metadata": {
        "id": "sYvvmMeaiZCk"
      },
      "execution_count": 12,
      "outputs": []
    },
    {
      "cell_type": "code",
      "execution_count": 13,
      "metadata": {
        "id": "orTVnh9HwKCp"
      },
      "outputs": [],
      "source": [
        "# FAST SWEEPING ITERATIONS\n",
        "while u_error > tol:\n",
        "    u_new = u.copy()\n",
        "\n",
        "    # Sweep from left to right; from bottom to top\n",
        "    for j in range(N):\n",
        "        for i in range(N):\n",
        "            u_new[i, j] = update_eikonal_2D(i, j, u_new, F, h, N)\n",
        "\n",
        "    # Sweep from right to left; from bottom to top\n",
        "    for i in range(N - 1, -1, -1):\n",
        "        for j in range(N):\n",
        "            u_new[i, j] = update_eikonal_2D(i, j, u_new, F, h, N)\n",
        "\n",
        "    # Sweep from right to left; from top to bottom\n",
        "    for j in range(N - 1, -1, -1):\n",
        "        for i in range(N - 1, -1, -1):\n",
        "            u_new[i, j] = update_eikonal_2D(i, j, u_new, F, h, N)\n",
        "\n",
        "    # Sweep from left to right; from top to bottom\n",
        "    for i in range(N):\n",
        "        for j in range(N - 1, -1, -1):\n",
        "            u_new[i, j] = update_eikonal_2D(i, j, u_new, F, h, N)\n",
        "\n",
        "    u_error = np.linalg.norm(u - u_new)\n",
        "    u = u_new\n",
        "    n_iter += 1"
      ]
    },
    {
      "cell_type": "markdown",
      "source": [
        "Plots."
      ],
      "metadata": {
        "id": "yp0VOxsDidlZ"
      }
    },
    {
      "cell_type": "code",
      "source": [
        "x = np.arange(0, N) * h\n",
        "y = np.arange(0, N) * h\n",
        "\n",
        "plt.figure(1)\n",
        "plt.imshow(u, extent=(x[0], x[-1], y[0], y[-1]))\n",
        "plt.colorbar()\n",
        "plt.title('Eikonal Solution')\n",
        "plt.show()"
      ],
      "metadata": {
        "colab": {
          "base_uri": "https://localhost:8080/",
          "height": 452
        },
        "id": "9bafR8g9igbc",
        "outputId": "3686ce7e-177a-4153-8062-0a4f92f52c11"
      },
      "execution_count": 14,
      "outputs": [
        {
          "output_type": "display_data",
          "data": {
            "text/plain": [
              "<Figure size 640x480 with 2 Axes>"
            ],
            "image/png": "[encoded data removed]"
          },
          "metadata": {}
        }
      ]
    }
  ]
}
