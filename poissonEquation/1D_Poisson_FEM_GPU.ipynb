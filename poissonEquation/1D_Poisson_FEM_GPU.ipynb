{
  "nbformat": 4,
  "nbformat_minor": 0,
  "metadata": {
    "colab": {
      "name": "FEM1DGPU.ipynb",
      "provenance": []
    },
    "kernelspec": {
      "name": "python3",
      "display_name": "Python 3"
    },
    "accelerator": "GPU"
  },
  "cells": [
    {
      "cell_type": "markdown",
      "metadata": {
        "id": "AZbU3dVN3Esl"
      },
      "source": [
        "Solves the following differential equation\n",
        "\n",
        "  ```-d/dx (p(x) du/dx) + q(x)*u  =  f(x)```\n",
        "\n",
        "by the Finite Element Method (FEM) using linear basis functions.\n",
        "\n",
        "```u``` is an unknown function defined on ```[x0, x1]```, and ```p```, ```q``` and ```f``` are known functions of ```x```.\n",
        "\n",
        "Essential boundary condition is applied at the left end.\n",
        "\n",
        "Natural   boundary condition is applied at the right end.\n"
      ]
    },
    {
      "cell_type": "markdown",
      "metadata": {
        "id": "6GpSSb793npV"
      },
      "source": [
        ""
      ]
    },
    {
      "cell_type": "markdown",
      "metadata": {
        "id": "DkJuNkX33oTM"
      },
      "source": [
        "\n",
        "\n",
        "---\n",
        "\n"
      ]
    },
    {
      "cell_type": "code",
      "metadata": {
        "id": "XG8hWMqZS9xY",
        "outputId": "fca882b0-3779-4187-cbd6-9acb11347baf",
        "colab": {
          "base_uri": "https://localhost:8080/",
          "height": 163
        }
      },
      "source": [
        "!pip install pycuda"
      ],
      "execution_count": null,
      "outputs": [
        {
          "output_type": "stream",
          "text": [
            "Requirement already satisfied: pycuda in /usr/local/lib/python3.6/dist-packages (2019.1.2)\n",
            "Requirement already satisfied: appdirs>=1.4.0 in /usr/local/lib/python3.6/dist-packages (from pycuda) (1.4.3)\n",
            "Requirement already satisfied: mako in /usr/local/lib/python3.6/dist-packages (from pycuda) (1.1.2)\n",
            "Requirement already satisfied: pytools>=2011.2 in /usr/local/lib/python3.6/dist-packages (from pycuda) (2020.1)\n",
            "Requirement already satisfied: decorator>=3.2.0 in /usr/local/lib/python3.6/dist-packages (from pycuda) (4.4.2)\n",
            "Requirement already satisfied: MarkupSafe>=0.9.2 in /usr/local/lib/python3.6/dist-packages (from mako->pycuda) (1.1.1)\n",
            "Requirement already satisfied: numpy>=1.6.0 in /usr/local/lib/python3.6/dist-packages (from pytools>=2011.2->pycuda) (1.18.3)\n",
            "Requirement already satisfied: six>=1.8.0 in /usr/local/lib/python3.6/dist-packages (from pytools>=2011.2->pycuda) (1.12.0)\n"
          ],
          "name": "stdout"
        }
      ]
    },
    {
      "cell_type": "markdown",
      "metadata": {
        "id": "NocnIXV4THsh"
      },
      "source": [
        "Standard imports."
      ]
    },
    {
      "cell_type": "code",
      "metadata": {
        "id": "vM3MkHuoTNPZ"
      },
      "source": [
        "import numpy as np\n",
        "import matplotlib.pyplot as plt\n",
        "\n",
        "import sys"
      ],
      "execution_count": null,
      "outputs": []
    },
    {
      "cell_type": "markdown",
      "metadata": {
        "id": "M3PwAz9HSQ_I"
      },
      "source": [
        "PyCUDA imports."
      ]
    },
    {
      "cell_type": "code",
      "metadata": {
        "id": "pn7U9Iy5STCQ"
      },
      "source": [
        "import pycuda.driver as cuda\n",
        "import pycuda.autoinit\n",
        "import pycuda.gpuarray as gpuarray\n",
        "from pycuda.elementwise import ElementwiseKernel\n",
        "from pycuda.compiler import SourceModule"
      ],
      "execution_count": null,
      "outputs": []
    },
    {
      "cell_type": "markdown",
      "metadata": {
        "id": "znp1nlJPSVXB"
      },
      "source": [
        "```iDivUp``` function: if ```b``` divides ```a```, then ```a/b``` is returned, otherwise the function returns the integer division between ```a``` and ```b``` summed to ```1```."
      ]
    },
    {
      "cell_type": "code",
      "metadata": {
        "id": "-WLilGwVSXuI"
      },
      "source": [
        "###################\n",
        "# iDivUp FUNCTION #\n",
        "###################\n",
        "def iDivUp(a, b):\n",
        "    # Round a / b to nearest higher integer value\n",
        "    a = np.int32(a)\n",
        "    b = np.int32(b)\n",
        "    return (a / b + 1) if (a % b != 0) else (a / b)"
      ],
      "execution_count": null,
      "outputs": []
    },
    {
      "cell_type": "markdown",
      "metadata": {
        "id": "9rEMJdhoR9sy"
      },
      "source": [
        "Kernel functions."
      ]
    },
    {
      "cell_type": "code",
      "metadata": {
        "id": "pmSDww0uR_kA"
      },
      "source": [
        "BLOCKSIZE = 256\n",
        "\n",
        "mod = SourceModule(\"\"\"\n",
        "\n",
        "#include <stdio.h>\n",
        "\n",
        "#define BLOCKSIZE\t\t%(BBLOCKSIZE)s\n",
        "\n",
        "#define PI_d\t\t\t3.1415926535897932384626433832795028841971693993751058209749445923078164062\n",
        "\n",
        "extern \"C\" {\n",
        "/***************************************/\n",
        "/* ATOMIC ADDITION FUNCTION ON DOUBLES */\n",
        "/***************************************/\n",
        "#if !defined(__CUDA_ARCH__) || __CUDA_ARCH__ >= 600\n",
        "#else\n",
        "__device__ double atomicAdd(double* address, double val)\n",
        "{\n",
        "\tunsigned long long int* address_as_ull =\n",
        "\t\t(unsigned long long int*)address;\n",
        "\tregister unsigned long long int old = *address_as_ull, assumed;\n",
        "\tdo {\n",
        "\t\tassumed = old;\n",
        "\t\told = atomicCAS(address_as_ull, assumed,\n",
        "\t\t\t__double_as_longlong(val +\n",
        "\t\t\t__longlong_as_double(assumed)));\n",
        "\t} while (assumed != old);\n",
        "\treturn __longlong_as_double(old);\n",
        "}\n",
        "#endif\n",
        "\n",
        "/**************************************/\n",
        "/* ELEMENT CONNECTIVITY MATRIX KERNEL */\n",
        "/**************************************/\n",
        "__global__ void computeConnectivityMatrixKernel(int * __restrict__ d_elementConnectivityMatrix, const int numElements, const int numNodesPerElement)\n",
        "{\n",
        "\tconst int tid = threadIdx.x + blockIdx.x * blockDim.x;\n",
        "\n",
        "\tif (tid >= numElements) return;\n",
        "\n",
        "\td_elementConnectivityMatrix[tid * numNodesPerElement]\t\t\t\t= tid;\n",
        "\td_elementConnectivityMatrix[tid * numNodesPerElement + 1] \t= tid + 1;\n",
        "\t/* d_elementConnectivityMatrix[tid * numNodesPerElement * numElements]\t\t= tid;\n",
        "\td_elementConnectivityMatrix[tid * numNodesPerElement * numElements + 1] = tid + 1; */\n",
        "\n",
        "}\n",
        "\n",
        "/*********************************/\n",
        "/* ASSEMBLE GLOBAL MATRIX KERNEL */\n",
        "/*********************************/\n",
        "__device__ void LinearBasisFunctions1D(const double xi, double * __restrict__ Ne1, double * __restrict__ Ne2, double * __restrict__ dNe1, double * __restrict__ dNe2) {\n",
        "\n",
        "\t/* --- Calculate the two basis functions at the natural coordinate xi */\n",
        "\tNe1[0] = .5 * (1. - xi);\n",
        "\tNe2[0] = .5 * (xi + 1.);\n",
        "\n",
        "\t/* --- Calculate the derivatives of the basis function with respect to natural coordinate xi */\n",
        "\tdNe1[0] = -.5;\n",
        "\tdNe2[0] =  .5;\n",
        "}\n",
        "\n",
        "__device__ double ff(double x) { return (16. * PI_d * PI_d + 1) * sin(4. * PI_d * x); }\n",
        "\n",
        "__global__ void assembleGlobalMatrixKernel(const int * __restrict__ d_connectivityMatrix, const double * __restrict__ d_globalNodes, const double * __restrict__ d_gaussPoints, \n",
        "\t\t\t\t\t\t\t\t\t\t\t\t\t\t\t\t\t\t \t\t\t const double * __restrict__ d_gaussWeights, double * __restrict__ d_f, int * __restrict__ d_I, int * __restrict__ d_J, double * __restrict__ d_X, \n",
        "\t\t\t\t\t\t\t\t\t \t\t\t\t\t\t\t\t\t \t\t\t const int numElements, const int numNodesPerElement, const int numberGaussPoints) {\n",
        "\n",
        "\tconst int e = threadIdx.x + blockIdx.x * blockDim.x;\n",
        "\n",
        "\tif (e >= numElements) return;\n",
        "\n",
        "\t/* --- Remember:\n",
        "\t       1) Dynamically indexed arrays cannot be stored in registers, because the GPU register file is not dynamically addressable.\n",
        "\t       2) Scalar variables are automatically stored in registers by the compiler.\n",
        "\t       3) Statically - indexed (i.e.where the index can be determined at compile time), small arrays(say, less than 16 floats) may be stored in registers by the compiler. */\n",
        "\tdouble Ke[4] = {0., 0., 0., 0.};\t\t\t\t\t\t\t\t/* --- Element stiffness matrix   */\n",
        "\tdouble fe[2] = {0., 0.};\t\t\t\t\t\t\t\t\t\t\t\t/* --- Element force(load) vector */\n",
        "\n",
        "\t/* --- Global node numbers corresponding to the current element */\n",
        "\tint globalNodeNumbers[2];\n",
        "\tglobalNodeNumbers[0] = d_connectivityMatrix[e * numNodesPerElement];\n",
        "\tglobalNodeNumbers[1] = d_connectivityMatrix[e * numNodesPerElement + 1];\n",
        "\n",
        "\t/* --- Global coordinates of the element nodes as a column vector */\n",
        "\tdouble xe[2];\n",
        "\txe[0] = d_globalNodes[globalNodeNumbers[0]];\n",
        "\txe[1] = d_globalNodes[globalNodeNumbers[1]];\n",
        "\n",
        "\tdouble Ne1, Ne2, dNe1, dNe2, B1, B2;\n",
        "\t\n",
        "\tdouble x, Jacobian, JacxW;\n",
        "\t\n",
        "\t/* --- Calculate the element integral */\n",
        "\tfor (int k = 0; k < numberGaussPoints; k++) {\t\t\t\t\t\t\t\t\t\t\t/* --- Loop over all the Gauss points */\n",
        "\n",
        "\t\t/* --- Return the 1D linear basis functions along with their derivatives with respect to local coordinates xi at Gauss points */\n",
        "\t\tLinearBasisFunctions1D(d_gaussPoints[k], &Ne1, &Ne2, &dNe1, &dNe2);\n",
        "\n",
        "\t\tx = Ne1 * xe[0] + Ne2 * xe[1];                                  /* --- Global coordinate (here x) of the current integration point */\n",
        "\n",
        "\t\tJacobian = dNe1 * xe[0] + dNe2 * xe[1];\t\t\t\t\t\t\t\t\t\t\t\t\t/* --- Jacobian dx / dxi */\n",
        "\n",
        "\t\tJacxW = Jacobian * d_gaussWeights[k];\t\t\t\t\t\t\t\t\t\t\t\t\t\t/* --- Calculate the integration weight */\n",
        "\n",
        "\t\t/* --- Calculate the derivatives of the basis functions with respect to x direction */\n",
        "\t\tB1 = dNe1 / Jacobian;                                \n",
        "\t\tB2 = dNe2 / Jacobian;                                \n",
        "\n",
        "\t\tKe[0] = Ke[0] + (B1* B1) * JacxW;\n",
        "\t\tKe[1] = Ke[1] + (B1* B2) * JacxW;\n",
        "\t\tKe[2] = Ke[2] + (B2* B1) * JacxW;\n",
        "\t\tKe[3] = Ke[3] + (B2* B2) * JacxW;\n",
        "\n",
        "\t\tfe[0] = fe[0] + ff(x) * Ne1 * JacxW;\n",
        "\t\tfe[1] = fe[1] + ff(x) * Ne2 * JacxW;\n",
        "\n",
        "\t}\n",
        "\n",
        "\tint globalIndexii, globalIndexjj;\n",
        "\t\n",
        "\t/* --- Loop over all the nodes of the e - th element */\n",
        "\tfor (int ii = 0; ii < numNodesPerElement; ii++) {\n",
        "\t\t\n",
        "\t\t/* --- Global index of the ii - th local node of the e - th element */\n",
        "\t\tglobalIndexii = d_connectivityMatrix[e * numNodesPerElement + ii];\n",
        "\n",
        "\t\tif (fe[ii] != 0) atomicAdd(&d_f[globalNodeNumbers[ii]], fe[ii]);\t\t/* --- Assemble load */\n",
        "\n",
        "\t\t/* --- Loop over all the nodes of the e - th element */\n",
        "\t\tfor (int jj = 0; jj < numNodesPerElement; jj++) {\n",
        "\n",
        "\t\t\t/* --- Global index of the ii - th local node of the e - th element */\n",
        "\t\t\tglobalIndexjj = d_connectivityMatrix[e * numNodesPerElement + jj];\n",
        "\n",
        "\t\t\t/* --- If the element(ii, jj) of the stiffness matrix of the e - th element is different from zero, then add a triplet */\n",
        "\t\t\tif (Ke[ii * numNodesPerElement + jj] != 0) { \n",
        "\n",
        "\t\t\t\t/* Main diagonal */\n",
        "\t\t\t\tif (globalIndexii == globalIndexjj) {\n",
        "\t\t\t\t\td_I[3 * globalIndexii] = globalIndexii;\n",
        "\t\t\t\t\td_J[3 * globalIndexii] = globalIndexjj;\n",
        "\t\t\t\t\tatomicAdd(&d_X[3 * globalIndexii], Ke[ii * numNodesPerElement + jj]);\n",
        "\t\t\t\t}\n",
        "\t\t\t\t/* Upper diagonal */\n",
        "\t\t\t\telse if (globalIndexii == globalIndexjj - 1) {\n",
        "\t\t\t\t\td_I[3 * (globalIndexjj - 1) + 1] = globalIndexii;\n",
        "\t\t\t\t\td_J[3 * (globalIndexjj - 1) + 1] = globalIndexjj;\n",
        "\t\t\t\t\tatomicAdd(&d_X[3 * (globalIndexjj - 1) + 1], Ke[ii * numNodesPerElement + jj]);\n",
        "\t\t\t\t}\n",
        "\t\t\t\t/* Lower diagonal */\n",
        "\t\t\t\telse if (globalIndexii == globalIndexjj + 1) {\n",
        "\t\t\t\t\td_I[3 * (globalIndexii - 1) + 2] = globalIndexii;\n",
        "\t\t\t\t\td_J[3 * (globalIndexii - 1) + 2] = globalIndexjj;\n",
        "\t\t\t\t\tatomicAdd(&d_X[3 * (globalIndexii - 1) + 2], Ke[ii * numNodesPerElement + jj]);\n",
        "\t\t\t\t}\n",
        "\n",
        "\t\t\t} \n",
        "\t\t}\n",
        "\t\n",
        "\t}\n",
        "}\n",
        "\n",
        "__global__ void leftBoundaryConditionKernel(double * __restrict__ d_f, const int totalNumNodes) {\n",
        "\n",
        "\tdouble value = 4. * PI_d * cos(4. * PI_d);\n",
        "\t\n",
        "\td_f[totalNumNodes - 1] = d_f[totalNumNodes - 1] + value;\n",
        "\n",
        "}\n",
        "\n",
        "__global__ void fixIndicesKernel(int * __restrict__ d_I, int * __restrict__ d_J, const int totalNumNodes) {\n",
        "\n",
        "\tconst int tid = threadIdx.x + blockIdx.x * blockDim.x;\n",
        "\t\n",
        "\tif (tid >= totalNumNodes + 2 * (totalNumNodes - 1) - 3) return;\n",
        "\t\n",
        "\td_I[tid] = d_I[tid] - 1;\n",
        "\td_J[tid] = d_J[tid] - 1;\n",
        "\n",
        "}\n",
        "\n",
        "}\n",
        "\"\"\" % { \"BBLOCKSIZE\" : BLOCKSIZE }, no_extern_c = True)"
      ],
      "execution_count": null,
      "outputs": []
    },
    {
      "cell_type": "markdown",
      "metadata": {
        "id": "8-1VYAFfSzNY"
      },
      "source": [
        "Set references to the ```__global__``` functions."
      ]
    },
    {
      "cell_type": "code",
      "metadata": {
        "id": "Ip-1-Ca1Szp4"
      },
      "source": [
        "computeConnectivityMatrix     = mod.get_function(\"computeConnectivityMatrixKernel\")\n",
        "d_linspace                    = ElementwiseKernel(\n",
        "        \"double *d_x, const double a, const double b, const int N\",\n",
        "        \"d_x[i] = a + i * (b - a) / (double)(N - 1)\")\n",
        "assembleGlobalMatrix          = mod.get_function(\"assembleGlobalMatrixKernel\")\n",
        "leftBoundaryCondition         = mod.get_function(\"leftBoundaryConditionKernel\")\n",
        "fixIndices                    = mod.get_function(\"fixIndicesKernel\")"
      ],
      "execution_count": null,
      "outputs": []
    },
    {
      "cell_type": "markdown",
      "metadata": {
        "id": "H4FkXz7xHolE"
      },
      "source": [
        "Gaussian quadrature function."
      ]
    },
    {
      "cell_type": "code",
      "metadata": {
        "id": "37BoDGueHpJU"
      },
      "source": [
        "def gaussianQuadrature(ngp):\n",
        "\n",
        "  gaussPoints       = np.zeros((ngp, 1))\n",
        "  gaussWeights      = np.zeros((ngp, 1))\n",
        "  \n",
        "  # --- 1 Gauss point\n",
        "  if (ngp == 1):       \n",
        "    gaussPoints     = 0\n",
        "    gaussWeights    = 2\n",
        "\n",
        "  # --- 2 Gauss points\n",
        "  elif (ngp == 2):   \n",
        "    gaussPoints[0]  = - 0.577350269189625764509148780502\n",
        "    gaussPoints[1]  =   0.577350269189625764509148780502\n",
        "\n",
        "    gaussWeights[0] = 1.0\n",
        "    gaussWeights[1] = 1.0\n",
        "\n",
        "  # --- 3 Gauss points\n",
        "  elif (ngp == 3):    \n",
        "\n",
        "    gaussPoints[0]  = - 0.774596669241483377035853079956\n",
        "    gaussPoints[1]  =   0.0;\n",
        "    gaussPoints[2]  =   0.774596669241483377035853079956\n",
        "\n",
        "    gaussWeights[0] = 5.0 / 9.0\n",
        "    gaussWeights[1] = 8.0 / 9.0\n",
        "    gaussWeights[2] = 5.0 / 9.0\n",
        "    \n",
        "  # --- 4 Gauss points\n",
        "  elif (ngp == 4): \n",
        "\n",
        "    gaussPoints[0]  = - 0.861136311594052575223946488893\n",
        "    gaussPoints[1]  = - 0.339981043584856264802665759103\n",
        "    gaussPoints[2]  =   0.339981043584856264802665759103\n",
        "    gaussPoints[3]  =   0.861136311594052575223946488893\n",
        "\n",
        "    gaussWeights[0] = 0.347854845137453857373063949222\n",
        "    gaussWeights[1] = 0.652145154862546142626936050778\n",
        "    gaussWeights[2] = 0.652145154862546142626936050778\n",
        "    gaussWeights[3] = 0.347854845137453857373063949222\n",
        "\n",
        "  # --- 5 Gauss points\n",
        "  elif (ngp == 5): \n",
        "\n",
        "    gaussPoints[0]  = - 0.906179845938663992797626878299\n",
        "    gaussPoints[1]  = - 0.538469310105683091036314420700\n",
        "    gaussPoints[2]  =   0.0\n",
        "    gaussPoints[3]  =   0.538469310105683091036314420700\n",
        "    gaussPoints[4]  =   0.906179845938663992797626878299\n",
        "\n",
        "    gaussWeights[0] = 0.236926885056189087514264040720\n",
        "    gaussWeights[1] = 0.478628670499366468041291514836\n",
        "    gaussWeights[2] = 0.568888888888888888888888888889\n",
        "    gaussWeights[3] = 0.478628670499366468041291514836\n",
        "    gaussWeights[4] = 0.236926885056189087514264040720\n",
        "\n",
        "  else:\n",
        "\n",
        "    print(\"\\nGaussian quadrature - Fatal error! \\n\")\n",
        "    print(\"Illegal number of Gauss points = \", ngp, \"\\n\")\n",
        "    print(\"Legal values are 1 to 5.\\n\")\n",
        "    sys.exit()\n",
        "\n",
        "  return gaussPoints, gaussWeights"
      ],
      "execution_count": null,
      "outputs": []
    },
    {
      "cell_type": "markdown",
      "metadata": {
        "id": "DUGi947yS0TK"
      },
      "source": [
        "Parameters"
      ]
    },
    {
      "cell_type": "code",
      "metadata": {
        "id": "QJGTGgz1SQON"
      },
      "source": [
        "x0                      = 0.0                                   # --- Left end of the 1D domain\n",
        "x1                      = 1.0                                   # --- Right end of the 1D domain\n",
        "\n",
        "numElements             = 10                                    # --- Total number of elements\n",
        "\n",
        "totalNumNodes           = numElements + 1                       # --- Total number of nodes\n",
        "numNodesPerElement      = 2                                     # --- Number of nodes per element\n",
        "     \n",
        "numberGaussPoints       = 2                                     # --- Number of Gauss points"
      ],
      "execution_count": null,
      "outputs": []
    },
    {
      "cell_type": "markdown",
      "metadata": {
        "id": "Y5Hxp4WPUIu1"
      },
      "source": [
        "Nodes and connectivity matrix."
      ]
    },
    {
      "cell_type": "code",
      "metadata": {
        "id": "YYCiVXWHTHND"
      },
      "source": [
        "# --- Global node number = connectivityMatrix(local node number, element number)\n",
        "# --- d_elementConnectivityMatrix is a (numElements x numNodesPerElement) matrix, stored rowwise\n",
        "d_elementConnectivityMatrix = gpuarray.zeros((numElements, numNodesPerElement), dtype = np.int32)\n",
        "\n",
        "d_globalNodes               = gpuarray.zeros((totalNumNodes, ), dtype = np.float64)\n",
        "\n",
        "blockDimConnectivity  = (BLOCKSIZE, 1, 1)\n",
        "gridDimConnectivity   = (int(iDivUp(numElements, BLOCKSIZE)), 1, 1)\n",
        "\n",
        "computeConnectivityMatrix(d_elementConnectivityMatrix, np.int32(numElements), np.int32(numNodesPerElement), block = blockDimConnectivity, grid = gridDimConnectivity)\n",
        "\n",
        "d_linspace(d_globalNodes, x0, x1, totalNumNodes)"
      ],
      "execution_count": null,
      "outputs": []
    },
    {
      "cell_type": "markdown",
      "metadata": {
        "id": "Hca5kH4CFOdl"
      },
      "source": [
        "Definition of global force and solution vectors."
      ]
    },
    {
      "cell_type": "code",
      "metadata": {
        "id": "_ZPS6_yHFRg0"
      },
      "source": [
        "# --- Global force vector\n",
        "d_f               = gpuarray.zeros((totalNumNodes, ), dtype = np.float64)\n",
        "# --- Global solution vector\n",
        "d_d               = gpuarray.zeros((totalNumNodes, ), dtype = np.float64)"
      ],
      "execution_count": null,
      "outputs": []
    },
    {
      "cell_type": "markdown",
      "metadata": {
        "id": "IsPJ8JvsF6Al"
      },
      "source": [
        "Definition of (I, J, K) triplet for assembling the sparse matrix."
      ]
    },
    {
      "cell_type": "code",
      "metadata": {
        "id": "9ZE_sLqSGG51"
      },
      "source": [
        "# --- Row indices of non - zero entries\n",
        "d_I               = gpuarray.zeros((totalNumNodes + 2 * (totalNumNodes - 1), ), dtype = np.int32)\n",
        "# --- Column indices of non - zero entries\n",
        "d_J               = gpuarray.zeros((totalNumNodes + 2 * (totalNumNodes - 1), ), dtype = np.int32)\n",
        "# --- Non - zero entries matrix\t\n",
        "d_X               = gpuarray.zeros((totalNumNodes + 2 * (totalNumNodes - 1), ), dtype = np.float64)"
      ],
      "execution_count": null,
      "outputs": []
    },
    {
      "cell_type": "markdown",
      "metadata": {
        "id": "1Fa-Uu9vHUP3"
      },
      "source": [
        "Compute Gaussian quadrature points."
      ]
    },
    {
      "cell_type": "code",
      "metadata": {
        "id": "576r6my8HWV8"
      },
      "source": [
        "gaussPoints, gaussWeights = gaussianQuadrature(numberGaussPoints)     # --- Return Gauss quadrature points and weights\n",
        "  \n",
        "d_gaussPoints   = gpuarray.to_gpu(gaussPoints)\n",
        "d_gaussWeights  = gpuarray.to_gpu(gaussWeights)"
      ],
      "execution_count": null,
      "outputs": []
    },
    {
      "cell_type": "markdown",
      "metadata": {
        "id": "_C92KZ1sQjUX"
      },
      "source": [
        "Assemble global stiffness matrix."
      ]
    },
    {
      "cell_type": "code",
      "metadata": {
        "id": "Bo1Mu3upQlP_"
      },
      "source": [
        "assembleGlobalMatrix(d_elementConnectivityMatrix, d_globalNodes, d_gaussPoints, d_gaussWeights, \n",
        "\t\td_f, d_I, d_J, d_X, np.int32(numElements), np.int32(numNodesPerElement), np.int32(numberGaussPoints), block = blockDimConnectivity, grid = gridDimConnectivity)"
      ],
      "execution_count": null,
      "outputs": []
    },
    {
      "cell_type": "markdown",
      "metadata": {
        "id": "cGvJuXYhMser"
      },
      "source": [
        "Sorting."
      ]
    },
    {
      "cell_type": "code",
      "metadata": {
        "id": "Few0ivWgMr-k",
        "outputId": "0315a98f-ec4f-4dc2-e09d-bfc3d73e3c3e",
        "colab": {
          "base_uri": "https://localhost:8080/",
          "height": 54
        }
      },
      "source": [
        "d_keys = d_I * totalNumNodes + d_J\n",
        "\n",
        "keys = d_keys.get()\n",
        "print(keys)"
      ],
      "execution_count": null,
      "outputs": [
        {
          "output_type": "stream",
          "text": [
            "[  0   1  11  12  13  23  24  25  35  36  37  47  48  49  59  60  61  71\n",
            "  72  73  83  84  85  95  96  97 107 108 109 119 120]\n"
          ],
          "name": "stdout"
        }
      ]
    },
    {
      "cell_type": "code",
      "metadata": {
        "id": "JanF4HW1Mtlv",
        "outputId": "eb4ef403-c5d4-4280-bbfb-fcbfadb5a5d8",
        "colab": {
          "base_uri": "https://localhost:8080/",
          "height": 145
        }
      },
      "source": [
        "f = d_f.get()\n",
        "\n",
        "d_I = d_I[3 : totalNumNodes + 2 * (totalNumNodes - 1)]\n",
        "d_J = d_J[3 : totalNumNodes + 2 * (totalNumNodes - 1)]\n",
        "d_X = d_X[3 : totalNumNodes + 2 * (totalNumNodes - 1)]\n",
        "\n",
        "blockDimIndices  = (BLOCKSIZE, 1, 1)\n",
        "gridDimIndices   = (int(iDivUp(totalNumNodes + 2 * (totalNumNodes - 1) - 3, BLOCKSIZE)), 1, 1)\n",
        "fixIndices(d_I, d_J, np.int32(totalNumNodes), block = blockDimIndices, grid = gridDimIndices)\n",
        "\n",
        "I = d_I.get()\n",
        "J = d_J.get()\n",
        "X = d_X.get()\n",
        "\n",
        "print(I)\n",
        "print(J)\n",
        "print(X)\n",
        "\n",
        "print(f)"
      ],
      "execution_count": null,
      "outputs": [
        {
          "output_type": "stream",
          "text": [
            "[0 0 1 1 1 2 2 2 3 3 3 4 4 4 5 5 5 6 6 6 7 7 7 8 8 8 9 9]\n",
            "[0 1 0 1 2 1 2 3 2 3 4 3 4 5 4 5 6 5 6 7 6 7 8 7 8 9 8 9]\n",
            "[ 20. -10. -10.  20. -10. -10.  20. -10. -10.  20. -10. -10.  20. -10.\n",
            " -10.  20. -10. -10.  20. -10. -10.  20. -10. -10.  20. -10. -10.  10.]\n",
            "[ 3.04943043e+00  1.32514454e+01  8.18984366e+00 -8.18984366e+00\n",
            " -1.32514454e+01 -3.10862447e-15  1.32514454e+01  8.18984366e+00\n",
            " -8.18984366e+00 -1.32514454e+01 -3.04943043e+00]\n"
          ],
          "name": "stdout"
        }
      ]
    },
    {
      "cell_type": "code",
      "metadata": {
        "id": "K9SW0chBqrJ1",
        "outputId": "4a3f3a36-c393-42c9-c9b9-3635bad92b19",
        "colab": {
          "base_uri": "https://localhost:8080/",
          "height": 326
        }
      },
      "source": [
        "import ctypes\n",
        "\n",
        "# --- Loading cuSparse library\n",
        "cuSparse = ctypes.cdll.LoadLibrary('libcusparse.so')\n",
        "\n",
        "# --- Function interfaces\n",
        "# handle    -> ctypes.c_void_p\n",
        "# int       -> ctypes.c_int\n",
        "# double    -> ctypes.c_double\n",
        "# int *     -> ctypes.c_void_p\n",
        "# double *  -> ctypes.c_void_p\n",
        "#     cusparseCreate\n",
        "cuSparse.cusparseCreate.restype = int\n",
        "cuSparse.cusparseCreate.argtypes = [ctypes.c_void_p]\n",
        "#     cusparseGetVersion\n",
        "cuSparse.cusparseGetVersion.restype = int\n",
        "cuSparse.cusparseGetVersion.argtypes = [ctypes.c_int, ctypes.c_void_p]\n",
        "#     cusparseXcoo2csr\n",
        "cuSparse.cusparseXcoo2csr.restype = int\n",
        "cuSparse.cusparseXcoo2csr.argtypes = [ctypes.c_void_p, ctypes.c_void_p, ctypes.c_int, ctypes.c_int, ctypes.c_void_p, ctypes.c_int]\n",
        "#     cusparseCreateMatDescr\n",
        "cuSparse.cusparseCreateMatDescr.restype = int\n",
        "cuSparse.cusparseCreateMatDescr.argtypes = [ctypes.c_void_p]\n",
        "#     cusparseDcsr2dense\n",
        "cuSparse.cusparseDcsr2dense.restype = int\n",
        "cuSparse.cusparseDcsr2dense.argtypes = [ctypes.c_void_p, ctypes.c_int, ctypes.c_int, ctypes.c_void_p, ctypes.c_void_p, ctypes.c_void_p, ctypes.c_void_p, ctypes.c_void_p, ctypes.c_int]\n",
        "\n",
        "# --- Create cuSPARSE handle\n",
        "cuSparseHandlePointer = ctypes.c_void_p()\n",
        "status = cuSparse.cusparseCreate(ctypes.byref(cuSparseHandlePointer))\n",
        "cuSparseHandle = cuSparseHandlePointer.value\n",
        "print(\"cusparseCreate status: \", status)\n",
        "\n",
        "# --- Return cuSparse version\n",
        "cuSparseVersionPointer = ctypes.c_void_p()\n",
        "status = cuSparse.cusparseGetVersion(cuSparseHandle, ctypes.byref(cuSparseVersionPointer))\n",
        "print(\"cusparseGetVersion status: \", status)\n",
        "print(\"cuSparse version: \", cuSparseVersionPointer.value)\n",
        "\n",
        "# --- Convert from coo to csr\n",
        "# cusparseStatus_t cusparseXcoo2csr(cusparseHandle_t handle, const int *cooRowInd, int nnz, int m, int *csrRowPtr, cusparseIndexBase_t idxBase)\n",
        "d_csrRowPtr          = gpuarray.zeros((totalNumNodes, ), dtype = np.int32)\n",
        "status = cuSparse.cusparseXcoo2csr(cuSparseHandle, int(d_I.gpudata), totalNumNodes + 2 * (totalNumNodes - 1) - 3, totalNumNodes - 1, int(d_csrRowPtr.gpudata), 0)\n",
        "print(\"cusparseXcoo2csr status: \", status)\n",
        "csrRowPtr = d_csrRowPtr.get()\n",
        "print(csrRowPtr)\n",
        "\n",
        "# --- Create matrix descriptor\n",
        "descrA = ctypes.c_void_p()\n",
        "status = cuSparse.cusparseCreateMatDescr(ctypes.byref(descrA))\n",
        "print(\"cusparseCreateMatDescr status: \", status)\n",
        "\n",
        "# --- Convert from csr to dense\n",
        "d_A          = gpuarray.zeros((totalNumNodes - 1, totalNumNodes - 1), dtype = np.float64)\n",
        "# cusparseStatus_t cusparseDcsr2dense(cusparseHandle_t handle, int m, int n, const cusparseMatDescr_t descrA, const double *csrValA, const int *csrRowPtrA, const int *csrColIndA, double *A, int lda)\n",
        "status = cuSparse.cusparseDcsr2dense(cuSparseHandle, totalNumNodes - 1, totalNumNodes - 1, descrA, int(d_X.gpudata), int(d_csrRowPtr.gpudata), int(d_J.gpudata), int(d_A.gpudata), totalNumNodes - 1)\n",
        "print(\"cusparseDcsr2dense status: \", status)\n",
        "A = d_A.get()\n",
        "print(A)"
      ],
      "execution_count": null,
      "outputs": [
        {
          "output_type": "stream",
          "text": [
            "cusparseCreate status:  0\n",
            "cusparseGetVersion status:  0\n",
            "cuSparse version:  10000\n",
            "cusparseXcoo2csr status:  0\n",
            "[ 0  2  5  8 11 14 17 20 23 26 28]\n",
            "cusparseCreateMatDescr status:  0\n",
            "cusparseDcsr2dense status:  0\n",
            "[[ 20. -10.   0.   0.   0.   0.   0.   0.   0.   0.]\n",
            " [-10.  20. -10.   0.   0.   0.   0.   0.   0.   0.]\n",
            " [  0. -10.  20. -10.   0.   0.   0.   0.   0.   0.]\n",
            " [  0.   0. -10.  20. -10.   0.   0.   0.   0.   0.]\n",
            " [  0.   0.   0. -10.  20. -10.   0.   0.   0.   0.]\n",
            " [  0.   0.   0.   0. -10.  20. -10.   0.   0.   0.]\n",
            " [  0.   0.   0.   0.   0. -10.  20. -10.   0.   0.]\n",
            " [  0.   0.   0.   0.   0.   0. -10.  20. -10.   0.]\n",
            " [  0.   0.   0.   0.   0.   0.   0. -10.  20. -10.]\n",
            " [  0.   0.   0.   0.   0.   0.   0.   0. -10.  10.]]\n"
          ],
          "name": "stdout"
        }
      ]
    },
    {
      "cell_type": "markdown",
      "metadata": {
        "id": "cqL41rnTMsvz"
      },
      "source": [
        "Letf boundary condition."
      ]
    },
    {
      "cell_type": "code",
      "metadata": {
        "id": "x5KzlEGiMuf4",
        "colab": {
          "base_uri": "https://localhost:8080/",
          "height": 72
        },
        "outputId": "6901a8a2-b3bb-436a-f493-142c1f21caa4"
      },
      "source": [
        "leftBoundaryCondition(d_f, np.int32(totalNumNodes), block = (1, 1, 1), grid = (1, 1, 1))\n",
        "\n",
        "d_f = d_f[1 : totalNumNodes]\n",
        "f = d_f.get()\n",
        "print(f)"
      ],
      "execution_count": null,
      "outputs": [
        {
          "output_type": "stream",
          "text": [
            "[ 1.32514454e+01  8.18984366e+00 -8.18984366e+00 -1.32514454e+01\n",
            " -3.10862447e-15  1.32514454e+01  8.18984366e+00 -8.18984366e+00\n",
            " -1.32514454e+01  9.51694018e+00]\n"
          ],
          "name": "stdout"
        }
      ]
    },
    {
      "cell_type": "markdown",
      "metadata": {
        "id": "sD38i0aUZ-ri"
      },
      "source": [
        "Solve the linear system."
      ]
    },
    {
      "cell_type": "code",
      "metadata": {
        "id": "gNd_uVnUZ_94",
        "colab": {
          "base_uri": "https://localhost:8080/",
          "height": 35
        },
        "outputId": "cc5d47fb-40be-468a-ad01-a59b6e570605"
      },
      "source": [
        "cuSolver = ctypes.cdll.LoadLibrary('libcusolver.so')\n",
        "\n",
        "cuSolver.cusolverSpCreate.restype = int\n",
        "cuSolver.cusolverSpCreate.argtypes = [ctypes.c_void_p]\n",
        "\n",
        "cuSolverHandle = ctypes.c_void_p()\n",
        "status = cuSolver.cusolverSpCreate(ctypes.byref(cuSolverHandle))\n",
        "\n",
        "cuSolver.cusolverSpDcsrlsvqr.restype = int\n",
        "cuSolver.cusolverSpDcsrlsvqr.argtypes= [ctypes.c_void_p, ctypes.c_int, ctypes.c_int, ctypes.c_void_p, ctypes.c_void_p, ctypes.c_void_p, ctypes.c_void_p, ctypes.c_void_p, ctypes.c_double, ctypes.c_int, ctypes.c_void_p, ctypes.c_void_p]\n",
        "\n",
        "d_d          = gpuarray.zeros((totalNumNodes - 1,), dtype = np.float64)\n",
        "tol          = ctypes.c_double(1e-10)\n",
        "reorder      = ctypes.c_int(0)\n",
        "singularity  = ctypes.c_int(99)\n",
        "cuSolver.cusolverSpDcsrlsvqr(cuSolverHandle, totalNumNodes - 1, totalNumNodes + 2 * (totalNumNodes - 1) - 3, descrA, int(d_X.gpudata), int(d_csrRowPtr.gpudata), int(d_J.gpudata), int(d_f.gpudata), tol, reorder, int(d_d.gpudata), ctypes.byref(singularity))"
      ],
      "execution_count": null,
      "outputs": [
        {
          "output_type": "execute_result",
          "data": {
            "text/plain": [
              "0"
            ]
          },
          "metadata": {
            "tags": []
          },
          "execution_count": 18
        }
      ]
    },
    {
      "cell_type": "code",
      "metadata": {
        "id": "9minf--acMOa",
        "colab": {
          "base_uri": "https://localhost:8080/",
          "height": 54
        },
        "outputId": "e34aa545-1d02-476a-d1f0-65e1d69f4cf4"
      },
      "source": [
        "d = d_d.get()\n",
        "\n",
        "print(d)"
      ],
      "execution_count": null,
      "outputs": [
        {
          "output_type": "stream",
          "text": [
            "[ 0.95169402  0.5782435  -0.61419139 -0.98764192 -0.0359479   0.91574612\n",
            "  0.5422956  -0.65013929 -1.02358981 -0.07189579]\n"
          ],
          "name": "stdout"
        }
      ]
    },
    {
      "cell_type": "markdown",
      "metadata": {
        "id": "t2aH80_FrAP5"
      },
      "source": [
        "https://stackoverflow.com/questions/30460074/interfacing-cusolver-sparse-using-pycuda\n",
        "\n",
        "https://scikit-cuda.readthedocs.io/en/latest/genindex.html\n",
        "\n",
        "https://github.com/lebedov/scikit-cuda/blob/master/skcuda/cusparse.py\n",
        "\n",
        "https://docs.nvidia.com/cuda/cusparse/index.html"
      ]
    }
  ]
}
