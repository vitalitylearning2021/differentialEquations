{
  "nbformat": 4,
  "nbformat_minor": 0,
  "metadata": {
    "colab": {
      "name": "FEM1D_v2.ipynb",
      "provenance": []
    },
    "kernelspec": {
      "name": "python3",
      "display_name": "Python 3"
    }
  },
  "cells": [
    {
      "cell_type": "markdown",
      "metadata": {
        "id": "AZbU3dVN3Esl"
      },
      "source": [
        "Solves the following differential equation\n",
        "\n",
        "  ```-d/dx (p(x) du/dx) + q(x)*u  =  f(x)```\n",
        "\n",
        "by the Finite Element Method (FEM) using linear basis functions.\n",
        "\n",
        "```u``` is an unknown function defined on ```[x0, x1]```, and ```p```, ```q``` and ```f``` are known functions of ```x```.\n",
        "\n",
        "Essential boundary condition is applied at the left end.\n",
        "\n",
        "Natural   boundary condition is applied at the right end.\n"
      ]
    },
    {
      "cell_type": "markdown",
      "metadata": {
        "id": "6GpSSb793npV"
      },
      "source": [
        ""
      ]
    },
    {
      "cell_type": "markdown",
      "metadata": {
        "id": "DkJuNkX33oTM"
      },
      "source": [
        "\n",
        "\n",
        "---\n",
        "\n"
      ]
    },
    {
      "cell_type": "markdown",
      "metadata": {
        "id": "NocnIXV4THsh"
      },
      "source": [
        "Standard imports."
      ]
    },
    {
      "cell_type": "code",
      "metadata": {
        "id": "vM3MkHuoTNPZ"
      },
      "source": [
        "import numpy as np\n",
        "import matplotlib.pyplot as plt\n",
        "\n",
        "from scipy.sparse import csr_matrix\n",
        "from scipy.sparse import lil_matrix\n",
        "from scipy.sparse.linalg import spsolve\n",
        "\n",
        "import sys"
      ],
      "execution_count": null,
      "outputs": []
    },
    {
      "cell_type": "markdown",
      "metadata": {
        "id": "SJ5FarMdqrXi"
      },
      "source": [
        "Analytical solution."
      ]
    },
    {
      "cell_type": "code",
      "metadata": {
        "id": "pBPNBqs3qtqw"
      },
      "source": [
        "def exact(x):\n",
        "  return (4. * np.pi - (16. * np.pi * np.pi + 1.) / (4. * np.pi)) * x +  np.sin ( 4. * np.pi * x )"
      ],
      "execution_count": null,
      "outputs": []
    },
    {
      "cell_type": "markdown",
      "metadata": {
        "id": "AdC9VW3qX3q9"
      },
      "source": [
        "Gaussian quadrature function."
      ]
    },
    {
      "cell_type": "code",
      "metadata": {
        "id": "zmdJShJjX5qT"
      },
      "source": [
        "def gaussianQuadrature(ngp):\n",
        "\n",
        "  gaussPoints       = np.zeros((ngp, 1))\n",
        "  gaussWeights      = np.zeros((ngp, 1))\n",
        "  \n",
        "  # --- 1 Gauss point\n",
        "  if (ngp == 1):       \n",
        "    gaussPoints     = 0\n",
        "    gaussWeights    = 2\n",
        "\n",
        "  # --- 2 Gauss points\n",
        "  elif (ngp == 2):   \n",
        "    gaussPoints[0]  = - 0.577350269189625764509148780502\n",
        "    gaussPoints[1]  =   0.577350269189625764509148780502\n",
        "\n",
        "    gaussWeights[0] = 1.0\n",
        "    gaussWeights[1] = 1.0\n",
        "\n",
        "  # --- 3 Gauss points\n",
        "  elif (ngp == 3):    \n",
        "\n",
        "    gaussPoints[0]  = - 0.774596669241483377035853079956\n",
        "    gaussPoints[1]  =   0.0;\n",
        "    gaussPoints[2]  =   0.774596669241483377035853079956\n",
        "\n",
        "    gaussWeights[0] = 5.0 / 9.0\n",
        "    gaussWeights[1] = 8.0 / 9.0\n",
        "    gaussWeights[2] = 5.0 / 9.0\n",
        "    \n",
        "  # --- 4 Gauss points\n",
        "  elif (ngp == 4): \n",
        "\n",
        "    gaussPoints[0]  = - 0.861136311594052575223946488893\n",
        "    gaussPoints[1]  = - 0.339981043584856264802665759103\n",
        "    gaussPoints[2]  =   0.339981043584856264802665759103\n",
        "    gaussPoints[3]  =   0.861136311594052575223946488893\n",
        "\n",
        "    gaussWeights[0] = 0.347854845137453857373063949222\n",
        "    gaussWeights[1] = 0.652145154862546142626936050778\n",
        "    gaussWeights[2] = 0.652145154862546142626936050778\n",
        "    gaussWeights[3] = 0.347854845137453857373063949222\n",
        "\n",
        "  # --- 5 Gauss points\n",
        "  elif (ngp == 5): \n",
        "\n",
        "    gaussPoints[0]  = - 0.906179845938663992797626878299\n",
        "    gaussPoints[1]  = - 0.538469310105683091036314420700\n",
        "    gaussPoints[2]  =   0.0\n",
        "    gaussPoints[3]  =   0.538469310105683091036314420700\n",
        "    gaussPoints[4]  =   0.906179845938663992797626878299\n",
        "\n",
        "    gaussWeights[0] = 0.236926885056189087514264040720\n",
        "    gaussWeights[1] = 0.478628670499366468041291514836\n",
        "    gaussWeights[2] = 0.568888888888888888888888888889\n",
        "    gaussWeights[3] = 0.478628670499366468041291514836\n",
        "    gaussWeights[4] = 0.236926885056189087514264040720\n",
        "\n",
        "  else:\n",
        "\n",
        "    print(\"\\nGaussian quadrature - Fatal error! \\n\")\n",
        "    print(\"Illegal number of Gauss points = \", ngp, \"\\n\")\n",
        "    print(\"Legal values are 1 to 5.\\n\")\n",
        "    sys.exit()\n",
        "\n",
        "  return gaussPoints, gaussWeights"
      ],
      "execution_count": null,
      "outputs": []
    },
    {
      "cell_type": "markdown",
      "metadata": {
        "id": "F1BZPVzA3nED"
      },
      "source": [
        "Linear basis functions calculation."
      ]
    },
    {
      "cell_type": "code",
      "metadata": {
        "id": "QVE78hb53p85"
      },
      "source": [
        "def LinearBasisFunctions1D(xi):\n",
        "\n",
        "  # --- Calculate the two basis functions at the natural coordinate xi\n",
        "  N1e  = (1 / 2) * (1 - xi)\n",
        "  N2e  = (1 / 2) * (xi + 1)\n",
        "  Ne   = np.array([N1e, N2e])\n",
        "\n",
        "  # --- Calculate the derivatives of the basis function with respect to natural coordinate xi\n",
        "  dN1e = -1 / 2\n",
        "  dN2e = 1 / 2\n",
        "  dNe  = np.array([dN1e, dN2e])\n",
        "\n",
        "  return Ne, dNe"
      ],
      "execution_count": null,
      "outputs": []
    },
    {
      "cell_type": "markdown",
      "metadata": {
        "id": "aueiouD73snd"
      },
      "source": [
        "```p(x)``` function."
      ]
    },
    {
      "cell_type": "code",
      "metadata": {
        "id": "u9ktyYjk6WxE"
      },
      "source": [
        "def p(x):\n",
        "\n",
        "  return 1.0"
      ],
      "execution_count": null,
      "outputs": []
    },
    {
      "cell_type": "markdown",
      "metadata": {
        "id": "OCLjJoqR7F3W"
      },
      "source": [
        "```f(x)``` function."
      ]
    },
    {
      "cell_type": "code",
      "metadata": {
        "id": "YOir_g-X7K1E"
      },
      "source": [
        "def ff(x):\n",
        "\n",
        "  return (16 * np.pi * np.pi + 1) * np.sin(4 * np.pi * x)"
      ],
      "execution_count": null,
      "outputs": []
    },
    {
      "cell_type": "markdown",
      "metadata": {
        "id": "iKMxtveG9CF3"
      },
      "source": [
        "Linear system solution function."
      ]
    },
    {
      "cell_type": "code",
      "metadata": {
        "id": "b8YYMzNt9AkH"
      },
      "source": [
        "def SolveSystem(K, f, globalIndicesSpecifiedValues, specifiedDegreesOfFreedom):\n",
        "\n",
        "  dof = f.size                    # --- Extract the total number of degreess-of-freedom                   \n",
        "\n",
        "  # --- Separate the degrees of freedom to the boundary condition points\n",
        "  #     C = setdiff(A,B) for vectors A and B, returns the values in A that are not in B with no \n",
        "  #     repetitions. C will be sorted.\n",
        "  df = np.setdiff1d(range(dof), globalIndicesSpecifiedValues)\n",
        "\n",
        "  # Kf = csr_matrix((dof - 1, dof - 1))\n",
        "  Kf = lil_matrix((dof - 1, dof - 1))\n",
        "  for p in range(dof - 1):\n",
        "    for q in range(dof - 1):\n",
        "      if (K[df[p], df[q]] != 0):\n",
        "        Kf[p, q] = K[df[p], df[q]]\n",
        "\n",
        "  Rf = f[df] - K[df, globalIndicesSpecifiedValues] * specifiedDegreesOfFreedom\n",
        "\n",
        "  # --- Solve the linear system of equations using Gauss elimination. Other (possibly more efficient)\n",
        "  #     solution schemes are possible, taking also advantage of the sparse matrix data structure.\n",
        "  dfVals = spsolve(Kf.tocsr(), Rf)\n",
        "\n",
        "  d = np.zeros((dof, 1))                  # --- Restore the solution vector\n",
        "  d[globalIndicesSpecifiedValues] = specifiedDegreesOfFreedom\n",
        "  d[df, 0]   = dfVals;\n",
        "\n",
        "  return d\n"
      ],
      "execution_count": null,
      "outputs": []
    },
    {
      "cell_type": "markdown",
      "metadata": {
        "id": "BFN2Fh7X8IBm"
      },
      "source": [
        "Assemble global matrix function."
      ]
    },
    {
      "cell_type": "code",
      "metadata": {
        "id": "-zNnq4fD8Kj1"
      },
      "source": [
        "def AssembleGlobalMatrix(e, Ke, fe):\n",
        "\n",
        "  global numNodesPerElement, connectivityMatrix, f, I, J, X, ntriplets\n",
        "\n",
        "  for ii in range(numNodesPerElement):                          # --- Loop over all the nodes of the e-th element\n",
        "    \n",
        "    globalIndexii = connectivityMatrix[e, ii]                   # --- Global index of the ii-th local node of the e-th element\n",
        "       \n",
        "    if (fe[ii] != 0):\n",
        "        f[globalIndexii] = f[globalIndexii] + fe[ii]            # --- Assemble load\n",
        "        \n",
        "    for jj in range(numNodesPerElement):                        # --- Loop over all the nodes of the e-th element\n",
        "        \n",
        "        globalIndexjj = connectivityMatrix[e, jj]               # --- Global index of the ii-th local node of the e-th element\n",
        "            \n",
        "        # --- If the element (ii, jj) of the stiffness matrix of the e-th element is different from zero, then add a triplet\n",
        "        if (Ke[ii, jj] != 0):                            \n",
        "            \n",
        "            ntriplets = ntriplets + 1\n",
        "                                        \n",
        "            # --- Manually increase the size of the I, J, X arrays if needed, namely, it ntriplets > len. \n",
        "            #     The below approach speeds up this process. All the values of these arrays \n",
        "            #     between len and 2*len are set to zero and the length of these arrays is increased to 2*len    \n",
        "            lenX = X.size                 \n",
        "            if (ntriplets >= X.size): \n",
        "                I.resize((2 * lenX, 1))\n",
        "                J.resize((2 * lenX, 1))\n",
        "                X.resize((2 * lenX, 1))\n",
        "                I[2 * lenX - 1] = 0\n",
        "                J[2 * lenX - 1] = 0      \n",
        "                X[2 * lenX - 1] = 0      \n",
        "\n",
        "            I[ntriplets] = globalIndexii\n",
        "            J[ntriplets] = globalIndexjj\n",
        "            X[ntriplets] = Ke[ii, jj]"
      ],
      "execution_count": null,
      "outputs": []
    },
    {
      "cell_type": "markdown",
      "metadata": {
        "id": "DUGi947yS0TK"
      },
      "source": [
        "Parameters"
      ]
    },
    {
      "cell_type": "code",
      "metadata": {
        "id": "QJGTGgz1SQON"
      },
      "source": [
        "x0                      = 0.0                                   # --- Left end of the 1D domain\n",
        "x1                      = 1.0                                   # --- Right end of the 1D domain\n",
        "\n",
        "numElements             = 50                                    # --- Total number of elements\n",
        "\n",
        "totalNumNodes           = numElements + 1                       # --- Total number of nodes\n",
        "numNodesPerElement      = 2                                     # --- Number of nodes per element\n",
        "     \n",
        "numberGaussPoints       = 2                                     # --- Number of Gauss points"
      ],
      "execution_count": null,
      "outputs": []
    },
    {
      "cell_type": "markdown",
      "metadata": {
        "id": "Y5Hxp4WPUIu1"
      },
      "source": [
        "Nodes and connectivity matrix."
      ]
    },
    {
      "cell_type": "code",
      "metadata": {
        "id": "YYCiVXWHTHND"
      },
      "source": [
        "globalNodes             = np.linspace(x0, x1, totalNumNodes)    # --- Global node coordinates\n",
        "\n",
        "# --- Connectivity matrix\n",
        "connectivityMatrix      = np.zeros((numElements, numNodesPerElement), dtype = np.int32)              \n",
        "     \n",
        "# --- Loop over all elements\n",
        "for e in range(numElements):\n",
        "    connectivityMatrix[e, 0] = e       \n",
        "    connectivityMatrix[e, 1] = e + 1   "
      ],
      "execution_count": null,
      "outputs": []
    },
    {
      "cell_type": "markdown",
      "metadata": {
        "id": "hUMdwJKAVauZ"
      },
      "source": [
        "Global matrices and vectors."
      ]
    },
    {
      "cell_type": "code",
      "metadata": {
        "id": "2GxRx13ZVeSK"
      },
      "source": [
        "f                         = np.zeros((totalNumNodes, 1))          # --- Global force vector\n",
        "d                         = np.zeros((totalNumNodes, 1))          # --- Global solution vector\n",
        "\n",
        "gaussPoints, gaussWeights = gaussianQuadrature(numberGaussPoints)     # --- Return Gauss quadrature points and weights                      \n",
        "\n",
        "# --- Triplet for assembling the sparse matrix\n",
        "I           = np.zeros((numNodesPerElement * totalNumNodes, 1), dtype = np.int32)       # --- Row indices of non-zero entries\n",
        "J           = np.zeros((numNodesPerElement * totalNumNodes, 1), dtype = np.int32)       # --- Column indices of non-zero entries\n",
        "X           = np.zeros((numNodesPerElement * totalNumNodes, 1))                         # --- Non-zero entries matrix\n",
        "\n",
        "ntriplets   = -1                                                      # --- Global variable to trace the index\n",
        "\n",
        "############\n",
        "# FEM LOOP #\n",
        "############\n",
        "for e in range(numElements):     # --- Loop over the elements\n",
        "\n",
        "  Ke = np.zeros((numNodesPerElement, numNodesPerElement))             # --- Element stiffness matrix\n",
        "  fe = np.zeros((numNodesPerElement, 1))                              # --- Element force (load) vector \n",
        "\n",
        "  globalNodeNumbers = connectivityMatrix[e, :]                        # --- Global node numbers corresponding to the current element \n",
        "  xe                = globalNodes[globalNodeNumbers]                  # --- Global coordinates of the element nodes as a column vector\n",
        "\n",
        "  # --- Calculate the element integral\n",
        "  for kk in range(gaussPoints.size):    # --- Loop over all the Gauss points\n",
        "\n",
        "    Ne, dNe       = LinearBasisFunctions1D(gaussPoints[kk])           # --- Return the 1D linear basis functions along with their derivatives with respect to local coordinates xi at Gauss points\n",
        "\n",
        "    x             = np.matmul(xe, Ne)                                 # --- Global coordinate (here x) of the current integration point\n",
        "\n",
        "    Jacobian      = np.matmul(xe, dNe)                                # --- Jacobian dx / dxi\n",
        "\n",
        "    JacxW         = Jacobian * gaussWeights[kk]                       # --- Calculate the integration weight\n",
        "\n",
        "    B             = np.reshape(dNe / Jacobian, (numberGaussPoints, 1))   # --- Calculate the derivatives of the basis functions with respect to x direction \n",
        "\n",
        "    Ke            = Ke + np.matmul(B, np.transpose(p(x) * B)) * JacxW\n",
        "\n",
        "    fe            = fe + ff(x) * Ne * JacxW\n",
        "\n",
        "  AssembleGlobalMatrix(e, Ke, fe)                                     # --- Assemble global matrix"
      ],
      "execution_count": null,
      "outputs": []
    },
    {
      "cell_type": "markdown",
      "metadata": {
        "id": "1Zq3u5UgGk5V"
      },
      "source": [
        "Constructs the global stiffness matrix in sparse format using ```I, J, X```. Any elements of s that have duplicate values of ```i``` and ```j``` are added together. Accordingly, if there are duplicates (which a finite element matrix always has) the duplicates are summed, which is exactly what we want when assembling a finite-element matrix."
      ]
    },
    {
      "cell_type": "code",
      "metadata": {
        "id": "fcvnkSB5VD5r"
      },
      "source": [
        "X = np.reshape(X[0 : (ntriplets + 1)], ((ntriplets + 1),))\n",
        "I = np.reshape(I[0 : (ntriplets + 1)], ((ntriplets + 1),))\n",
        "J = np.reshape(J[0 : (ntriplets + 1)], ((ntriplets + 1),))\n",
        "K = csr_matrix((X, (I, J)))"
      ],
      "execution_count": null,
      "outputs": []
    },
    {
      "cell_type": "markdown",
      "metadata": {
        "id": "UXvLp8oX8BZY"
      },
      "source": [
        "Apply boundary conditions."
      ]
    },
    {
      "cell_type": "code",
      "metadata": {
        "id": "U9RP0ruL8Eyo"
      },
      "source": [
        "# --- Essential boundary condition (u specified) at first end\n",
        "globalIndicesSpecifiedValues = 0        # --- Global indices with specified values\n",
        "specifiedDegreesOfFreedom    = 0        # --- Specified degrees of freedom values\n",
        "\n",
        "# --- Natural boundary condition (du / dn specified) at the second end\n",
        "x = globalNodes[totalNumNodes - 1]      # --- Global coordinate of second end\n",
        "value = 4 * np.pi * np.cos(4 * np.pi);\n",
        "f[totalNumNodes - 1] = f[totalNumNodes - 1] + p(x) * value; "
      ],
      "execution_count": null,
      "outputs": []
    },
    {
      "cell_type": "markdown",
      "metadata": {
        "id": "DdRh4HMp8vAR"
      },
      "source": [
        "Solve the linear system.\n"
      ]
    },
    {
      "cell_type": "code",
      "metadata": {
        "id": "LudW1nrt8vmw"
      },
      "source": [
        "d = SolveSystem(K, f, globalIndicesSpecifiedValues, specifiedDegreesOfFreedom)"
      ],
      "execution_count": null,
      "outputs": []
    },
    {
      "cell_type": "markdown",
      "metadata": {
        "id": "SQjOS3Py6Gcw"
      },
      "source": [
        "Post processing."
      ]
    },
    {
      "cell_type": "code",
      "metadata": {
        "id": "yTcOs-JZ6Aib"
      },
      "source": [
        "numPlotPointsPerElement  = 10                                             # --- Number of plot points per element\n",
        "\n",
        "plotPoints               = np.linspace(-1, 1, numPlotPointsPerElement)    # --- Global node coordinates\n",
        "\n",
        "numberGaussPoints        = 2                                              # --- Number of Gauss points\n",
        "\n",
        "uniformNorm              = 0.0\n",
        "l2DifferenceNorm         = 0.0                   \n",
        "l2Norm                   = 0.0           "
      ],
      "execution_count": null,
      "outputs": []
    },
    {
      "cell_type": "code",
      "metadata": {
        "id": "WsfhnSq_VLn1",
        "outputId": "3353c075-003d-4aa6-8f4f-cdc9993e579f",
        "colab": {
          "base_uri": "https://localhost:8080/",
          "height": 315
        }
      },
      "source": [
        "x_plot = np.zeros((numElements * numPlotPointsPerElement, ))\n",
        "u_plot = np.zeros((numElements * numPlotPointsPerElement, ))\n",
        "\n",
        "gaussPoints, gaussWeights = gaussianQuadrature(numberGaussPoints)         # --- Return Gauss quadrature points and weights                      \n",
        "\n",
        "count = 0\n",
        "for e in range(numElements):         # --- Loop over the elements\n",
        "\n",
        "  globalNodeNumbers = connectivityMatrix[e, :]                        # --- Global node numbers corresponding to the current element \n",
        "  xe                = globalNodes[globalNodeNumbers]                  # --- Global coordinates of the element nodes as a column vector\n",
        "\n",
        "  de                = d[globalNodeNumbers]                            # --- Restores the node values\n",
        "\n",
        "  # --- Loop over all the points for plotting\n",
        "  for kk in range(numPlotPointsPerElement):\n",
        "\n",
        "    Ne, _ = LinearBasisFunctions1D(plotPoints[kk])        # --- Return the 1D linear basis functions along with their derivatives with respect to local coordinates xi at \n",
        "      \n",
        "    x  = np.matmul(xe, Ne)                                # --- Global coordinate (here x) of the current integration point\n",
        "      \n",
        "    uh = np.matmul(Ne, de)                                # --- Unknown value at plot points\n",
        "\n",
        "    x_plot[count] = x\n",
        "    u_plot[count] = uh\n",
        "\n",
        "    count = count + 1\n",
        "\n",
        "  # --- Loop over all the Gauss points for error analysis\n",
        "  for kk in range(gaussPoints.size):        \n",
        "\n",
        "    Ne, dNe       = LinearBasisFunctions1D(gaussPoints[kk])       # --- Return the 1D linear basis functions along with their derivatives with respect to local coordinates xi at \n",
        "                                                                  #     Gauss points\n",
        "           \n",
        "    x             = np.matmul(xe, Ne)                             # --- Global coordinate (here x) of the current integration point\n",
        "                                      \n",
        "    Jacobian      = np.matmul(xe, dNe)                            # --- Jacobian dx / dxi\n",
        "\n",
        "            \n",
        "    JacxW         = Jacobian * gaussWeights[kk]                   # --- Calculate the integration weight\n",
        "            \n",
        "    u_exact       = exact(x);                                     # --- Analytical solution\n",
        "\n",
        "    uh            = np.matmul(np.reshape(de, (1, de.size)), Ne)   # --- Finite element solution at the Gauss points\n",
        "\n",
        "    # --- Uniform norm\n",
        "    error = np.abs(uh - u_exact)\n",
        "    if (error > uniformNorm):\n",
        "      uniformNorm = error     \n",
        "\n",
        "    l2DifferenceNorm = l2DifferenceNorm + (u_exact - uh) * (u_exact - uh) * JacxW\n",
        "    l2Norm           = l2Norm + u_exact * u_exact * JacxW\n",
        "\n",
        "x_exact = np.linspace(globalNodes[0], globalNodes[totalNumNodes - 1], 100)\n",
        "u_exact = exact(x_exact)\n",
        "\n",
        "plt.scatter(x_plot, u_plot, color = 'r')\n",
        "plt.plot(x_exact, u_exact, color = 'k')\n",
        "plt.xlabel('x')\n",
        "plt.ylabel('u(x)')\n",
        "plt.show()\n",
        "\n",
        "print(\"Uniform norm: \", uniformNorm)\n",
        "print(\"Percentage root mean square error: \", 100. * l2DifferenceNorm)"
      ],
      "execution_count": null,
      "outputs": [
        {
          "output_type": "display_data",
          "data": {
            "image/png": "[encoded data removed]",
            "text/plain": [
              "<Figure size 432x288 with 1 Axes>"
            ]
          },
          "metadata": {
            "tags": [],
            "needs_background": "light"
          }
        },
        {
          "output_type": "stream",
          "text": [
            "Uniform norm:  [[0.00109031]]\n",
            "Percentage root mean square error:  [[5.84323186e-05]]\n"
          ],
          "name": "stdout"
        }
      ]
    }
  ]
}
